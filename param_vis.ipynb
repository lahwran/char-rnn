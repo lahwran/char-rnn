{
 "cells": [
  {
   "cell_type": "code",
   "execution_count": 4,
   "metadata": {
    "collapsed": true
   },
   "outputs": [],
   "source": [
    "require 'torch'\n",
    "require 'nn'\n",
    "require 'nngraph'\n",
    "\n",
    "require 'util.OneHot'\n",
    "require 'util.misc'\n",
    "require 'util.WriteSlice'\n",
    "require 'util.ReadSlice'\n",
    "require 'cutorch'\n",
    "require 'cunn'\n",
    "Plot = require 'itorch.Plot'"
   ]
  },
  {
   "cell_type": "code",
   "execution_count": 9,
   "metadata": {
    "collapsed": false
   },
   "outputs": [],
   "source": [
    "model = torch.load(\"/mnt/cv-cgru-dec19-3/lm_lstm_epoch8.83_2.5639.t7\")"
   ]
  },
  {
   "cell_type": "code",
   "execution_count": 40,
   "metadata": {
    "collapsed": false
   },
   "outputs": [],
   "source": [
    "function dump(table)\n",
    "    print(type(table))\n",
    "    if torch.type(table) ~= type(table) then\n",
    "        print(torch.type(table))\n",
    "    end\n",
    "    if table.size then\n",
    "        print(table:size())\n",
    "    end\n",
    "    print()\n",
    "    if table == nil or type(table) == \"userdata\" then\n",
    "        return\n",
    "    end\n",
    "    print(\"attrs:\")\n",
    "    for k,v in pairs(table) do\n",
    "        print(\"    \" .. k)\n",
    "    end\n",
    "end"
   ]
  },
  {
   "cell_type": "code",
   "execution_count": 41,
   "metadata": {
    "collapsed": false
   },
   "outputs": [
    {
     "data": {
      "text/plain": [
       "table\t\n",
       "\n",
       "attrs:\t\n",
       "    val_loss\t\n",
       "    epoch\t\n",
       "    protos\t\n",
       "    val_losses\t\n",
       "    vocab\t\n",
       "    opt\t\n",
       "    train_losses\t\n",
       "    i\t\n",
       "\n"
      ]
     },
     "execution_count": 41,
     "metadata": {},
     "output_type": "execute_result"
    }
   ],
   "source": [
    "dump(model)"
   ]
  },
  {
   "cell_type": "code",
   "execution_count": 27,
   "metadata": {
    "collapsed": false
   },
   "outputs": [
    {
     "data": {
      "text/plain": [
       "table\t\n",
       "\n",
       "attrs:\t\n",
       "    rnn\t\n",
       "    criterion\t\n",
       "\n"
      ]
     },
     "execution_count": 27,
     "metadata": {},
     "output_type": "execute_result"
    }
   ],
   "source": [
    "dump(model.protos)"
   ]
  },
  {
   "cell_type": "code",
   "execution_count": 28,
   "metadata": {
    "collapsed": false
   },
   "outputs": [
    {
     "data": {
      "text/plain": [
       "table\t\n",
       "nn.gModule\t\n",
       "\n",
       "attrs:\t\n",
       "    output\t\n",
       "    forwardnodes\t\n",
       "    outnode\t\n",
       "    fg\t\n",
       "    verbose\t\n",
       "    backwardnodes\t\n",
       "    innode\t\n",
       "    bg\t\n",
       "    nInputs\t\n",
       "\n"
      ]
     },
     "execution_count": 28,
     "metadata": {},
     "output_type": "execute_result"
    }
   ],
   "source": [
    "dump(model.protos.rnn\n",
    ")"
   ]
  },
  {
   "cell_type": "code",
   "execution_count": 35,
   "metadata": {
    "collapsed": false
   },
   "outputs": [
    {
     "data": {
      "text/plain": [
       "1\t\n",
       "nil\t\n",
       "\n",
       "2\t\n",
       "nil\t\n",
       "\n",
       "3\t\n",
       "nil\t\n",
       "\n",
       "4\t\n",
       "table\t\n",
       "nn.Identity\t\n",
       "\n",
       "attrs:\t\n",
       "    gradInput\t\n",
       "    output\t\n",
       "5\t\n",
       "table\t\n",
       "nn.LookupTable\t\n",
       "\n",
       "attrs:\t\n",
       "    output\t\n",
       "    weight\t\n",
       "    _indices\t\n",
       "    gradWeight\t\n",
       "    _sorted\t\n",
       "    _count\t\n",
       "    _input\t\n",
       "    gradInput\t\n",
       "6\t\n",
       "nil\t\n",
       "\n",
       "7\t\n",
       "table\t\n",
       "nn.Identity\t\n",
       "\n",
       "attrs:\t\n",
       "    gradInput\t\n",
       "    output\t\n",
       "8\t\n",
       "table\t\n",
       "WriteSlice\t\n",
       "\n",
       "attrs:\t\n",
       "    gradInput\t\n",
       "    output\t\n",
       "    slice\t\n",
       "9\t\n",
       "table\t\n",
       "nn.SpatialConvolution\t\n",
       "\n",
       "attrs:\t\n",
       "    dH\t\n",
       "    dW\t\n",
       "    nOutputPlane\t\n",
       "    output\t\n",
       "    gradInput\t\n",
       "    kH\t\n",
       "    finput\t\n",
       "    kW\t\n",
       "    nInputPlane\t\n",
       "    weight\t\n",
       "    padW\t\n",
       "    gradWeight\t\n",
       "    bias\t\n",
       "    padH\t\n",
       "    fgradInput\t\n",
       "    gradBias\t\n",
       "10\t\n",
       "table\t\n",
       "nn.Sigmoid\t\n",
       "\n",
       "attrs:\t\n",
       "    gradInput\t\n",
       "    output\t\n",
       "11\t\n",
       "table\t\n",
       "nn.MulConstant\t\n",
       "\n",
       "attrs:\t\n",
       "    gradInput\t\n",
       "    output\t\n",
       "    inplace\t\n",
       "    constant_scalar\t\n",
       "12\t\n",
       "table\t\n",
       "nn.AddConstant\t\n",
       "\n",
       "attrs:\t\n",
       "    gradInput\t\n",
       "    output\t\n",
       "    inplace\t\n",
       "    constant_scalar\t\n",
       "13\t\n",
       "table\t\n",
       "nn.CMulTable\t\n",
       "\n",
       "attrs:\t\n",
       "    gradInput\t\n",
       "    output\t\n",
       "14\t\n",
       "table\t\n",
       "nn.SpatialConvolution\t\n",
       "\n",
       "attrs:\t\n",
       "    dH\t\n",
       "    dW\t\n",
       "    nOutputPlane\t\n",
       "    output\t\n",
       "    gradInput\t\n",
       "    kH\t\n",
       "    finput\t\n",
       "    kW\t\n",
       "    nInputPlane\t\n",
       "    weight\t\n",
       "    padW\t\n",
       "    gradWeight\t\n",
       "    bias\t\n",
       "    padH\t\n",
       "    fgradInput\t\n",
       "    gradBias\t\n",
       "15\t\n",
       "table\t\n",
       "nn.Sigmoid\t\n",
       "\n",
       "attrs:\t\n",
       "    gradInput\t\n",
       "    output\t\n",
       "16\t\n",
       "table\t\n",
       "nn.CMulTable\t\n",
       "\n",
       "attrs:\t\n",
       "    gradInput\t\n",
       "    output\t\n",
       "17\t\n",
       "table\t\n",
       "nn.SpatialConvolution\t\n",
       "\n",
       "attrs:\t\n",
       "    dH\t\n",
       "    dW\t\n",
       "    nOutputPlane\t\n",
       "    output\t\n",
       "    gradInput\t\n",
       "    kH\t\n",
       "    finput\t\n",
       "    kW\t\n",
       "    nInputPlane\t\n",
       "    weight\t\n",
       "    padW\t\n",
       "    gradWeight\t\n",
       "    bias\t\n",
       "    padH\t\n",
       "    fgradInput\t\n",
       "    gradBias\t\n",
       "18\t\n",
       "table\t\n",
       "nn.Tanh\t\n",
       "\n",
       "attrs:\t\n",
       "    gradInput\t\n",
       "    output\t\n",
       "19\t\n",
       "table\t\n",
       "nn.CMulTable\t\n",
       "\n",
       "attrs:\t\n",
       "    gradInput\t\n",
       "    output\t\n",
       "20\t\n",
       "table\t\n",
       "nn.CAddTable\t\n",
       "\n",
       "attrs:\t\n",
       "    gradInput\t\n",
       "    output\t\n",
       "21\t\n",
       "table\t\n",
       "nn.Dropout\t\n",
       "\n",
       "attrs:\t\n",
       "    v2\t\n",
       "    noise\t\n",
       "    train\t\n",
       "    p\t\n",
       "    gradInput\t\n",
       "    output\t\n",
       "22\t\n",
       "table\t\n",
       "ReadSlice\t\n",
       "\n",
       "attrs:\t\n",
       "    gradInput\t\n",
       "    output\t\n",
       "    slice\t\n",
       "23\t\n",
       "table\t\n",
       "nn.Linear\t\n",
       "\n",
       "attrs:\t\n",
       "    gradBias\t\n",
       "    weight\t\n"
      ]
     },
     "execution_count": 35,
     "metadata": {},
     "output_type": "execute_result"
    },
    {
     "data": {
      "text/plain": [
       "    bias\t\n",
       "    gradInput\t\n",
       "    output\t\n",
       "    gradWeight\t\n",
       "24\t\n",
       "table\t\n",
       "nn.LogSoftMax\t\n",
       "\n",
       "attrs:\t\n",
       "    gradInput\t\n",
       "    output\t\n",
       "25\t\n",
       "nil\t\n",
       "\n"
      ]
     },
     "execution_count": 35,
     "metadata": {},
     "output_type": "execute_result"
    }
   ],
   "source": [
    "for ig,v in pairs(model.protos.rnn.forwardnodes) do\n",
    "    print(ig)\n",
    "    dump(v.data.module)\n",
    "end"
   ]
  },
  {
   "cell_type": "code",
   "execution_count": 44,
   "metadata": {
    "collapsed": false
   },
   "outputs": [
    {
     "data": {
      "text/plain": [
       "userdata\t\n",
       "torch.CudaTensor\t\n",
       "\n",
       " 128\n",
       " 128\n",
       "   3\n",
       "   3\n",
       "[torch.LongStorage of size 4]\n",
       "\n",
       "\n"
      ]
     },
     "execution_count": 44,
     "metadata": {},
     "output_type": "execute_result"
    }
   ],
   "source": [
    "dump(model.protos.rnn.forwardnodes[9].data.module.weight)\n",
    "conv = model.protos.rnn.forwardnodes[9].data.module\n",
    "nodes = model.protos.rnn.forwardnodes"
   ]
  },
  {
   "cell_type": "code",
   "execution_count": 56,
   "metadata": {
    "collapsed": false
   },
   "outputs": [
    {
     "data": {
      "image/png": "[encoded data removed]",
      "text/plain": [
       "Console does not support images"
      ]
     },
     "metadata": {
      "image/png": {
       "height": 130,
       "width": 5
      }
     },
     "output_type": "display_data"
    }
   ],
   "source": [
    "local o = conv.weight[{   {1, 3}, {}, {}, 1      }]\n",
    "itorch.image({o})"
   ]
  },
  {
   "cell_type": "code",
   "execution_count": 60,
   "metadata": {
    "collapsed": false
   },
   "outputs": [
    {
     "data": {
      "text/html": [
       "<script type=\"text/javascript\">\n",
       "$(function() {\n",
       "    if (typeof (window._bokeh_onload_callbacks) === \"undefined\"){\n",
       "  window._bokeh_onload_callbacks = [];\n",
       "    }\n",
       "    function load_lib(url, callback){\n",
       "  window._bokeh_onload_callbacks.push(callback);\n",
       "  if (window._bokeh_is_loading){\n",
       "      console.log(\"Bokeh: BokehJS is being loaded, scheduling callback at\", new Date());\n",
       "      return null;\n",
       "  }\n",
       "  console.log(\"Bokeh: BokehJS not loaded, scheduling load and callback at\", new Date());\n",
       "  window._bokeh_is_loading = true;\n",
       "  var s = document.createElement('script');\n",
       "  s.src = url;\n",
       "  s.async = true;\n",
       "  s.onreadystatechange = s.onload = function(){\n",
       "      Bokeh.embed.inject_css(\"http://cdn.pydata.org/bokeh-0.7.0.min.css\");\n",
       "      window._bokeh_onload_callbacks.forEach(function(callback){callback()});\n",
       "  };\n",
       "  s.onerror = function(){\n",
       "      console.warn(\"failed to load library \" + url);\n",
       "  };\n",
       "  document.getElementsByTagName(\"head\")[0].appendChild(s);\n",
       "    }\n",
       "\n",
       "    bokehjs_url = \"http://cdn.pydata.org/bokeh-0.7.0.min.js\"\n",
       "\n",
       "    var elt = document.getElementById(\"c68f8bee-12c0-4034-c085-296b6310d5ad\");\n",
       "    if(elt==null) {\n",
       "  console.log(\"Bokeh: ERROR: autoload.js configured with elementid 'c68f8bee-12c0-4034-c085-296b6310d5ad'\"\n",
       "        + \"but no matching script tag was found. \")\n",
       "  return false;\n",
       "    }\n",
       "\n",
       "    if(typeof(Bokeh) !== \"undefined\") {\n",
       "  console.log(\"Bokeh: BokehJS loaded, going straight to plotting\");\n",
       "  var modelid = \"c3e914dd-9ef0-4d30-cdc5-0950b2e84f97\";\n",
       "  var modeltype = \"Plot\";\n",
       "  var all_models = [{\"id\":\"817658f1-002f-47fb-c763-1f0588a7eb6c\",\"type\":\"ColumnDataSource\",\"attributes\":{\"data\":{\"y1\":[2,1,2,2,4,2,7,7,13,11,21,31,32,44,60,65,103,111,152,171,240,267,370,475,469,608,737,853,1048,1204,1355,1533,1811,2041,2348,2600,2793,3136,3307,3776,3957,4371,4540,4686,4864,4985,5271,5394,5299,5326,5288,5177,5084,4744,4552,4464,4123,3810,3619,3168,2968,2751,2334,2119,1915,1658,1473,1247,1068,941,796,696,532,462,370,313,259,244,175,147,104,91,72,55,25,29,20,13,7,10,10,4,3,4,0,2,0,3,1,1],\"x0\":[-13.838320732117,-13.551220132847,-13.264119533577,-12.977018934308,-12.689918335038,-12.402817735768,-12.115717136499,-11.828616537229,-11.541515937959,-11.25441533869,-10.96731473942,-10.68021414015,-10.393113540881,-10.106012941611,-9.8189123423413,-9.5318117430716,-9.2447111438019,-8.9576105445322,-8.6705099452626,-8.3834093459929,-8.0963087467232,-7.8092081474535,-7.5221075481839,-7.2350069489142,-6.9479063496445,-6.6608057503748,-6.3737051511052,-6.0866045518355,-5.7995039525658,-5.5124033532961,-5.2253027540265,-4.9382021547568,-4.6511015554871,-4.3640009562174,-4.0769003569478,-3.7897997576781,-3.5026991584084,-3.2155985591388,-2.9284979598691,-2.6413973605994,-2.3542967613297,-2.0671961620601,-1.7800955627904,-1.4929949635207,-1.205894364251,-0.91879376498136,-0.63169316571168,-0.34459256644201,-0.057491967172334,0.22960863209734,0.51670923136701,0.80380983063669,1.0909104299064,1.378011029176,1.6651116284457,1.9522122277154,2.2393128269851,2.5264134262547,2.8135140255244,3.1006146247941,3.3877152240638,3.6748158233334,3.9619164226031,4.2490170218728,4.5361176211425,4.8232182204121,5.1103188196818,5.3974194189515,5.6845200182212,5.9716206174908,6.2587212167605,6.5458218160302,6.8329224152998,7.1200230145695,7.4071236138392,7.6942242131089,7.9813248123785,8.2684254116482,8.5555260109179,8.8426266101876,9.1297272094572,9.4168278087269,9.7039284079966,9.9910290072663,10.278129606536,10.565230205806,10.852330805075,11.139431404345,11.426532003615,11.713632602884,12.000733202154,12.287833801424,12.574934400693,12.862034999963,13.149135599233,13.436236198502,13.723336797772,14.010437397042,14.297537996311,14.584638595581],\"x1\":[-13.55409113884,-13.26699053957,-12.9798899403,-12.692789341031,-12.405688741761,-12.118588142491,-11.831487543222,-11.544386943952,-11.257286344682,-10.970185745413,-10.683085146143,-10.395984546873,-10.108883947604,-9.821783348334,-9.5346827490643,-9.2475821497946,-8.9604815505249,-8.6733809512553,-8.3862803519856,-8.0991797527159,-7.8120791534462,-7.5249785541766,-7.2378779549069,-6.9507773556372,-6.6636767563675,-6.3765761570979,-6.0894755578282,-5.8023749585585,-5.5152743592888,-5.2281737600192,-4.9410731607495,-4.6539725614798,-4.3668719622101,-4.0797713629405,-3.7926707636708,-3.5055701644011,-3.2184695651314,-2.9313689658618,-2.6442683665921,-2.3571677673224,-2.0700671680528,-1.7829665687831,-1.4958659695134,-1.2087653702437,-0.92166477097405,-0.63456417170438,-0.34746357243471,-0.060362973165031,0.22673762610464,0.51383822537432,0.80093882464399,1.0880394239137,1.3751400231833,1.662240622453,1.9493412217227,2.2364418209924,2.523542420262,2.8106430195317,3.0977436188014,3.3848442180711,3.6719448173407,3.9590454166104,4.2461460158801,4.5332466151498,4.8203472144194,5.1074478136891,5.3945484129588,5.6816490122285,5.9687496114981,6.2558502107678,6.5429508100375,6.8300514093072,7.1171520085768,7.4042526078465,7.6913532071162,7.9784538063858,8.2655544056555,8.5526550049252,8.8397556041949,9.1268562034645,9.4139568027342,9.7010574020039,9.9881580012736,10.275258600543,10.562359199813,10.849459799083,11.136560398352,11.423660997622,11.710761596892,11.997862196161,12.284962795431,12.572063394701,12.85916399397,13.14626459324,13.43336519251,13.720465791779,14.007566391049,14.294666990319,14.581767589588,14.868868188858],\"y0\":[0,0,0,0,0,0,0,0,0,0,0,0,0,0,0,0,0,0,0,0,0,0,0,0,0,0,0,0,0,0,0,0,0,0,0,0,0,0,0,0,0,0,0,0,0,0,0,0,0,0,0,0,0,0,0,0,0,0,0,0,0,0,0,0,0,0,0,0,0,0,0,0,0,0,0,0,0,0,0,0,0,0,0,0,0,0,0,0,0,0,0,0,0,0,0,0,0,0,0,0]},\"column_names\":[\"y1\",\"x0\",\"x1\",\"y0\"],\"cont_ranges\":{},\"discrete_ranges\":{},\"selected\":[],\"id\":\"817658f1-002f-47fb-c763-1f0588a7eb6c\",\"doc\":null,\"tags\":[]}},{\"id\":\"c4ed0338-7dec-4521-c59b-f38ca5145ee8\",\"type\":\"Quad\",\"attributes\":{\"fill_alpha\":{\"units\":\"data\",\"value\":0.7},\"bottom\":{\"units\":\"data\",\"field\":\"y0\"},\"doc\":null,\"right\":{\"units\":\"data\",\"field\":\"x1\"},\"fill_color\":{\"value\":\"red\"},\"top\":{\"units\":\"data\",\"field\":\"y1\"},\"line_color\":{\"value\":\"red\"},\"line_alpha\":{\"units\":\"data\",\"value\":1},\"id\":\"c4ed0338-7dec-4521-c59b-f38ca5145ee8\",\"left\":{\"units\":\"data\",\"field\":\"x0\"},\"tags\":[]}},{\"id\":\"3325eb2e-316d-4a16-caef-3de3fead25d1\",\"type\":\"Quad\",\"attributes\":{\"fill_alpha\":{\"units\":\"data\",\"value\":0.7},\"bottom\":{\"units\":\"data\",\"field\":\"y0\"},\"doc\":null,\"right\":{\"units\":\"data\",\"field\":\"x1\"},\"fill_color\":{\"value\":\"red\"},\"top\":{\"units\":\"data\",\"field\":\"y1\"},\"line_color\":{\"value\":\"red\"},\"line_alpha\":{\"units\":\"data\",\"value\":1},\"id\":\"3325eb2e-316d-4a16-caef-3de3fead25d1\",\"left\":{\"units\":\"data\",\"field\":\"x0\"},\"tags\":[]}},{\"id\":\"513893b6-c1c5-428f-c2c0-0750323fd794\",\"type\":\"GlyphRenderer\",\"attributes\":{\"name\":null,\"nonselection_glyph\":{\"type\":\"Quad\",\"id\":\"3325eb2e-316d-4a16-caef-3de3fead25d1\"},\"doc\":null,\"server_data_source\":null,\"data_source\":{\"type\":\"ColumnDataSource\",\"id\":\"817658f1-002f-47fb-c763-1f0588a7eb6c\"},\"glyph\":{\"type\":\"Quad\",\"id\":\"c4ed0338-7dec-4521-c59b-f38ca5145ee8\"},\"selection_glyph\":null,\"id\":\"513893b6-c1c5-428f-c2c0-0750323fd794\",\"tags\":[]}},{\"id\":\"79e9d9c4-4a28-4e17-ce72-74f85bda98cb\",\"type\":\"DataRange1d\",\"attributes\":{\"sources\":[{\"columns\":[\"x0\",\"x1\"],\"source\":{\"type\":\"ColumnDataSource\",\"id\":\"817658f1-002f-47fb-c763-1f0588a7eb6c\"}}],\"id\":\"79e9d9c4-4a28-4e17-ce72-74f85bda98cb\",\"tags\":[],\"doc\":null}},{\"id\":\"3f947ee5-3034-420f-c254-64fb6852581e\",\"type\":\"DataRange1d\",\"attributes\":{\"sources\":[{\"columns\":[\"y1\",\"y0\"],\"source\":{\"type\":\"ColumnDataSource\",\"id\":\"817658f1-002f-47fb-c763-1f0588a7eb6c\"}}],\"id\":\"3f947ee5-3034-420f-c254-64fb6852581e\",\"tags\":[],\"doc\":null}},{\"id\":\"3060bed5-c949-45a3-c5d9-2dc469b0b7a8\",\"type\":\"ToolEvents\",\"attributes\":{\"tags\":[],\"id\":\"3060bed5-c949-45a3-c5d9-2dc469b0b7a8\",\"geometries\":[],\"doc\":null}},{\"id\":\"4473ce17-7b5a-40f1-c0fc-671f22f9d9ec\",\"type\":\"BasicTickFormatter\",\"attributes\":{\"id\":\"4473ce17-7b5a-40f1-c0fc-671f22f9d9ec\",\"tags\":[],\"doc\":null}},{\"id\":\"bfcd134d-ed90-4dd3-cd1e-272608ba7b79\",\"type\":\"BasicTicker\",\"attributes\":{\"num_minor_ticks\":5,\"id\":\"bfcd134d-ed90-4dd3-cd1e-272608ba7b79\",\"tags\":[],\"doc\":null}},{\"id\":\"526b14f2-e959-4543-c5e2-a0977418961b\",\"type\":\"LinearAxis\",\"attributes\":{\"formatter\":{\"type\":\"BasicTickFormatter\",\"id\":\"4473ce17-7b5a-40f1-c0fc-671f22f9d9ec\"},\"ticker\":{\"type\":\"BasicTicker\",\"id\":\"bfcd134d-ed90-4dd3-cd1e-272608ba7b79\"},\"plot\":{\"id\":\"c3e914dd-9ef0-4d30-cdc5-0950b2e84f97\",\"type\":\"Plot\",\"subtype\":\"Figure\"},\"axis_label\":null,\"id\":\"526b14f2-e959-4543-c5e2-a0977418961b\",\"doc\":null,\"tags\":[]}},{\"id\":\"f223fef1-7924-46de-c61f-da27bee49a77\",\"type\":\"Grid\",\"attributes\":{\"dimension\":0,\"plot\":{\"id\":\"c3e914dd-9ef0-4d30-cdc5-0950b2e84f97\",\"type\":\"Plot\",\"subtype\":\"Figure\"},\"ticker\":{\"type\":\"BasicTicker\",\"id\":\"bfcd134d-ed90-4dd3-cd1e-272608ba7b79\"},\"id\":\"f223fef1-7924-46de-c61f-da27bee49a77\",\"doc\":null,\"tags\":[]}},{\"id\":\"b028db9d-f21f-4c47-cc7f-31598ae7ef89\",\"type\":\"BasicTickFormatter\",\"attributes\":{\"id\":\"b028db9d-f21f-4c47-cc7f-31598ae7ef89\",\"tags\":[],\"doc\":null}},{\"id\":\"32f281dd-d787-4ac1-ca05-6634b67774cb\",\"type\":\"BasicTicker\",\"attributes\":{\"num_minor_ticks\":5,\"id\":\"32f281dd-d787-4ac1-ca05-6634b67774cb\",\"tags\":[],\"doc\":null}},{\"id\":\"4b176ccc-5fa2-4375-c34f-9a08a2ad51f2\",\"type\":\"LinearAxis\",\"attributes\":{\"formatter\":{\"type\":\"BasicTickFormatter\",\"id\":\"b028db9d-f21f-4c47-cc7f-31598ae7ef89\"},\"ticker\":{\"type\":\"BasicTicker\",\"id\":\"32f281dd-d787-4ac1-ca05-6634b67774cb\"},\"plot\":{\"id\":\"c3e914dd-9ef0-4d30-cdc5-0950b2e84f97\",\"type\":\"Plot\",\"subtype\":\"Figure\"},\"axis_label\":null,\"id\":\"4b176ccc-5fa2-4375-c34f-9a08a2ad51f2\",\"doc\":null,\"tags\":[]}},{\"id\":\"2c5ed6db-c7a4-4c91-ccb9-01d098f2b9c1\",\"type\":\"Grid\",\"attributes\":{\"dimension\":1,\"plot\":{\"id\":\"c3e914dd-9ef0-4d30-cdc5-0950b2e84f97\",\"type\":\"Plot\",\"subtype\":\"Figure\"},\"ticker\":{\"type\":\"BasicTicker\",\"id\":\"32f281dd-d787-4ac1-ca05-6634b67774cb\"},\"id\":\"2c5ed6db-c7a4-4c91-ccb9-01d098f2b9c1\",\"doc\":null,\"tags\":[]}},{\"id\":\"6fcf14a1-c7d6-4475-c45c-4f1a34b2c25c\",\"type\":\"PanTool\",\"attributes\":{\"plot\":{\"id\":\"c3e914dd-9ef0-4d30-cdc5-0950b2e84f97\",\"type\":\"Plot\",\"subtype\":\"Figure\"},\"dimensions\":[\"width\",\"height\"],\"id\":\"6fcf14a1-c7d6-4475-c45c-4f1a34b2c25c\",\"doc\":null,\"tags\":[]}},{\"id\":\"63d903d9-42a6-4eac-cec8-5b80ff5afcb3\",\"type\":\"WheelZoomTool\",\"attributes\":{\"plot\":{\"id\":\"c3e914dd-9ef0-4d30-cdc5-0950b2e84f97\",\"type\":\"Plot\",\"subtype\":\"Figure\"},\"dimensions\":[\"width\",\"height\"],\"id\":\"63d903d9-42a6-4eac-cec8-5b80ff5afcb3\",\"doc\":null,\"tags\":[]}},{\"id\":\"03bac975-9b9a-438a-c3a9-5a88240f7499\",\"type\":\"BoxZoomTool\",\"attributes\":{\"plot\":{\"id\":\"c3e914dd-9ef0-4d30-cdc5-0950b2e84f97\",\"type\":\"Plot\",\"subtype\":\"Figure\"},\"id\":\"03bac975-9b9a-438a-c3a9-5a88240f7499\",\"tags\":[],\"doc\":null}},{\"id\":\"11587a44-da13-4f1a-cfb0-5c52d1d69230\",\"type\":\"PreviewSaveTool\",\"attributes\":{\"plot\":{\"id\":\"c3e914dd-9ef0-4d30-cdc5-0950b2e84f97\",\"type\":\"Plot\",\"subtype\":\"Figure\"},\"id\":\"11587a44-da13-4f1a-cfb0-5c52d1d69230\",\"tags\":[],\"doc\":null}},{\"id\":\"89325772-6ad0-46c7-c6e7-2e863ff20c14\",\"type\":\"ResizeTool\",\"attributes\":{\"plot\":{\"id\":\"c3e914dd-9ef0-4d30-cdc5-0950b2e84f97\",\"type\":\"Plot\",\"subtype\":\"Figure\"},\"id\":\"89325772-6ad0-46c7-c6e7-2e863ff20c14\",\"tags\":[],\"doc\":null}},{\"id\":\"270f4066-aa4b-4d0d-cd48-c51a0717887b\",\"type\":\"ResetTool\",\"attributes\":{\"plot\":{\"id\":\"c3e914dd-9ef0-4d30-cdc5-0950b2e84f97\",\"type\":\"Plot\",\"subtype\":\"Figure\"},\"id\":\"270f4066-aa4b-4d0d-cd48-c51a0717887b\",\"tags\":[],\"doc\":null}},{\"id\":\"c3e914dd-9ef0-4d30-cdc5-0950b2e84f97\",\"type\":\"Plot\",\"attributes\":{\"x_range\":{\"type\":\"DataRange1d\",\"id\":\"79e9d9c4-4a28-4e17-ce72-74f85bda98cb\"},\"tool_events\":{\"type\":\"ToolEvents\",\"id\":\"3060bed5-c949-45a3-c5d9-2dc469b0b7a8\"},\"below\":[{\"type\":\"LinearAxis\",\"id\":\"526b14f2-e959-4543-c5e2-a0977418961b\"}],\"renderers\":[{\"type\":\"GlyphRenderer\",\"id\":\"513893b6-c1c5-428f-c2c0-0750323fd794\"},{\"type\":\"LinearAxis\",\"id\":\"526b14f2-e959-4543-c5e2-a0977418961b\"},{\"type\":\"Grid\",\"id\":\"f223fef1-7924-46de-c61f-da27bee49a77\"},{\"type\":\"LinearAxis\",\"id\":\"4b176ccc-5fa2-4375-c34f-9a08a2ad51f2\"},{\"type\":\"Grid\",\"id\":\"2c5ed6db-c7a4-4c91-ccb9-01d098f2b9c1\"}],\"above\":[],\"tools\":[{\"type\":\"PanTool\",\"id\":\"6fcf14a1-c7d6-4475-c45c-4f1a34b2c25c\"},{\"type\":\"WheelZoomTool\",\"id\":\"63d903d9-42a6-4eac-cec8-5b80ff5afcb3\"},{\"type\":\"BoxZoomTool\",\"id\":\"03bac975-9b9a-438a-c3a9-5a88240f7499\"},{\"type\":\"PreviewSaveTool\",\"id\":\"11587a44-da13-4f1a-cfb0-5c52d1d69230\"},{\"type\":\"ResizeTool\",\"id\":\"89325772-6ad0-46c7-c6e7-2e863ff20c14\"},{\"type\":\"ResetTool\",\"id\":\"270f4066-aa4b-4d0d-cd48-c51a0717887b\"}],\"doc\":null,\"right\":[],\"title\":\"Untitled Plot\",\"extra_x_ranges\":{},\"left\":[{\"type\":\"LinearAxis\",\"id\":\"4b176ccc-5fa2-4375-c34f-9a08a2ad51f2\"}],\"y_range\":{\"type\":\"DataRange1d\",\"id\":\"3f947ee5-3034-420f-c254-64fb6852581e\"},\"id\":\"c3e914dd-9ef0-4d30-cdc5-0950b2e84f97\",\"extra_y_ranges\":{},\"tags\":[]}}];\n",
       "  Bokeh.load_models(all_models);\n",
       "  var model = Bokeh.Collections(modeltype).get(modelid);\n",
       "  $(\"#c68f8bee-12c0-4034-c085-296b6310d5ad\").html(''); // clear any previous plot in window_id\n",
       "  var view = new model.default_view({model: model, el: \"#c68f8bee-12c0-4034-c085-296b6310d5ad\"});\n",
       "    } else {\n",
       "  load_lib(bokehjs_url, function() {\n",
       "      console.log(\"Bokeh: BokehJS plotting callback run at\", new Date())\n",
       "      var modelid = \"c3e914dd-9ef0-4d30-cdc5-0950b2e84f97\";\n",
       "      var modeltype = \"Plot\";\n",
       "      var all_models = [{\"id\":\"817658f1-002f-47fb-c763-1f0588a7eb6c\",\"type\":\"ColumnDataSource\",\"attributes\":{\"data\":{\"y1\":[2,1,2,2,4,2,7,7,13,11,21,31,32,44,60,65,103,111,152,171,240,267,370,475,469,608,737,853,1048,1204,1355,1533,1811,2041,2348,2600,2793,3136,3307,3776,3957,4371,4540,4686,4864,4985,5271,5394,5299,5326,5288,5177,5084,4744,4552,4464,4123,3810,3619,3168,2968,2751,2334,2119,1915,1658,1473,1247,1068,941,796,696,532,462,370,313,259,244,175,147,104,91,72,55,25,29,20,13,7,10,10,4,3,4,0,2,0,3,1,1],\"x0\":[-13.838320732117,-13.551220132847,-13.264119533577,-12.977018934308,-12.689918335038,-12.402817735768,-12.115717136499,-11.828616537229,-11.541515937959,-11.25441533869,-10.96731473942,-10.68021414015,-10.393113540881,-10.106012941611,-9.8189123423413,-9.5318117430716,-9.2447111438019,-8.9576105445322,-8.6705099452626,-8.3834093459929,-8.0963087467232,-7.8092081474535,-7.5221075481839,-7.2350069489142,-6.9479063496445,-6.6608057503748,-6.3737051511052,-6.0866045518355,-5.7995039525658,-5.5124033532961,-5.2253027540265,-4.9382021547568,-4.6511015554871,-4.3640009562174,-4.0769003569478,-3.7897997576781,-3.5026991584084,-3.2155985591388,-2.9284979598691,-2.6413973605994,-2.3542967613297,-2.0671961620601,-1.7800955627904,-1.4929949635207,-1.205894364251,-0.91879376498136,-0.63169316571168,-0.34459256644201,-0.057491967172334,0.22960863209734,0.51670923136701,0.80380983063669,1.0909104299064,1.378011029176,1.6651116284457,1.9522122277154,2.2393128269851,2.5264134262547,2.8135140255244,3.1006146247941,3.3877152240638,3.6748158233334,3.9619164226031,4.2490170218728,4.5361176211425,4.8232182204121,5.1103188196818,5.3974194189515,5.6845200182212,5.9716206174908,6.2587212167605,6.5458218160302,6.8329224152998,7.1200230145695,7.4071236138392,7.6942242131089,7.9813248123785,8.2684254116482,8.5555260109179,8.8426266101876,9.1297272094572,9.4168278087269,9.7039284079966,9.9910290072663,10.278129606536,10.565230205806,10.852330805075,11.139431404345,11.426532003615,11.713632602884,12.000733202154,12.287833801424,12.574934400693,12.862034999963,13.149135599233,13.436236198502,13.723336797772,14.010437397042,14.297537996311,14.584638595581],\"x1\":[-13.55409113884,-13.26699053957,-12.9798899403,-12.692789341031,-12.405688741761,-12.118588142491,-11.831487543222,-11.544386943952,-11.257286344682,-10.970185745413,-10.683085146143,-10.395984546873,-10.108883947604,-9.821783348334,-9.5346827490643,-9.2475821497946,-8.9604815505249,-8.6733809512553,-8.3862803519856,-8.0991797527159,-7.8120791534462,-7.5249785541766,-7.2378779549069,-6.9507773556372,-6.6636767563675,-6.3765761570979,-6.0894755578282,-5.8023749585585,-5.5152743592888,-5.2281737600192,-4.9410731607495,-4.6539725614798,-4.3668719622101,-4.0797713629405,-3.7926707636708,-3.5055701644011,-3.2184695651314,-2.9313689658618,-2.6442683665921,-2.3571677673224,-2.0700671680528,-1.7829665687831,-1.4958659695134,-1.2087653702437,-0.92166477097405,-0.63456417170438,-0.34746357243471,-0.060362973165031,0.22673762610464,0.51383822537432,0.80093882464399,1.0880394239137,1.3751400231833,1.662240622453,1.9493412217227,2.2364418209924,2.523542420262,2.8106430195317,3.0977436188014,3.3848442180711,3.6719448173407,3.9590454166104,4.2461460158801,4.5332466151498,4.8203472144194,5.1074478136891,5.3945484129588,5.6816490122285,5.9687496114981,6.2558502107678,6.5429508100375,6.8300514093072,7.1171520085768,7.4042526078465,7.6913532071162,7.9784538063858,8.2655544056555,8.5526550049252,8.8397556041949,9.1268562034645,9.4139568027342,9.7010574020039,9.9881580012736,10.275258600543,10.562359199813,10.849459799083,11.136560398352,11.423660997622,11.710761596892,11.997862196161,12.284962795431,12.572063394701,12.85916399397,13.14626459324,13.43336519251,13.720465791779,14.007566391049,14.294666990319,14.581767589588,14.868868188858],\"y0\":[0,0,0,0,0,0,0,0,0,0,0,0,0,0,0,0,0,0,0,0,0,0,0,0,0,0,0,0,0,0,0,0,0,0,0,0,0,0,0,0,0,0,0,0,0,0,0,0,0,0,0,0,0,0,0,0,0,0,0,0,0,0,0,0,0,0,0,0,0,0,0,0,0,0,0,0,0,0,0,0,0,0,0,0,0,0,0,0,0,0,0,0,0,0,0,0,0,0,0,0]},\"column_names\":[\"y1\",\"x0\",\"x1\",\"y0\"],\"cont_ranges\":{},\"discrete_ranges\":{},\"selected\":[],\"id\":\"817658f1-002f-47fb-c763-1f0588a7eb6c\",\"doc\":null,\"tags\":[]}},{\"id\":\"c4ed0338-7dec-4521-c59b-f38ca5145ee8\",\"type\":\"Quad\",\"attributes\":{\"fill_alpha\":{\"units\":\"data\",\"value\":0.7},\"bottom\":{\"units\":\"data\",\"field\":\"y0\"},\"doc\":null,\"right\":{\"units\":\"data\",\"field\":\"x1\"},\"fill_color\":{\"value\":\"red\"},\"top\":{\"units\":\"data\",\"field\":\"y1\"},\"line_color\":{\"value\":\"red\"},\"line_alpha\":{\"units\":\"data\",\"value\":1},\"id\":\"c4ed0338-7dec-4521-c59b-f38ca5145ee8\",\"left\":{\"units\":\"data\",\"field\":\"x0\"},\"tags\":[]}},{\"id\":\"3325eb2e-316d-4a16-caef-3de3fead25d1\",\"type\":\"Quad\",\"attributes\":{\"fill_alpha\":{\"units\":\"data\",\"value\":0.7},\"bottom\":{\"units\":\"data\",\"field\":\"y0\"},\"doc\":null,\"right\":{\"units\":\"data\",\"field\":\"x1\"},\"fill_color\":{\"value\":\"red\"},\"top\":{\"units\":\"data\",\"field\":\"y1\"},\"line_color\":{\"value\":\"red\"},\"line_alpha\":{\"units\":\"data\",\"value\":1},\"id\":\"3325eb2e-316d-4a16-caef-3de3fead25d1\",\"left\":{\"units\":\"data\",\"field\":\"x0\"},\"tags\":[]}},{\"id\":\"513893b6-c1c5-428f-c2c0-0750323fd794\",\"type\":\"GlyphRenderer\",\"attributes\":{\"name\":null,\"nonselection_glyph\":{\"type\":\"Quad\",\"id\":\"3325eb2e-316d-4a16-caef-3de3fead25d1\"},\"doc\":null,\"server_data_source\":null,\"data_source\":{\"type\":\"ColumnDataSource\",\"id\":\"817658f1-002f-47fb-c763-1f0588a7eb6c\"},\"glyph\":{\"type\":\"Quad\",\"id\":\"c4ed0338-7dec-4521-c59b-f38ca5145ee8\"},\"selection_glyph\":null,\"id\":\"513893b6-c1c5-428f-c2c0-0750323fd794\",\"tags\":[]}},{\"id\":\"79e9d9c4-4a28-4e17-ce72-74f85bda98cb\",\"type\":\"DataRange1d\",\"attributes\":{\"sources\":[{\"columns\":[\"x0\",\"x1\"],\"source\":{\"type\":\"ColumnDataSource\",\"id\":\"817658f1-002f-47fb-c763-1f0588a7eb6c\"}}],\"id\":\"79e9d9c4-4a28-4e17-ce72-74f85bda98cb\",\"tags\":[],\"doc\":null}},{\"id\":\"3f947ee5-3034-420f-c254-64fb6852581e\",\"type\":\"DataRange1d\",\"attributes\":{\"sources\":[{\"columns\":[\"y1\",\"y0\"],\"source\":{\"type\":\"ColumnDataSource\",\"id\":\"817658f1-002f-47fb-c763-1f0588a7eb6c\"}}],\"id\":\"3f947ee5-3034-420f-c254-64fb6852581e\",\"tags\":[],\"doc\":null}},{\"id\":\"3060bed5-c949-45a3-c5d9-2dc469b0b7a8\",\"type\":\"ToolEvents\",\"attributes\":{\"tags\":[],\"id\":\"3060bed5-c949-45a3-c5d9-2dc469b0b7a8\",\"geometries\":[],\"doc\":null}},{\"id\":\"4473ce17-7b5a-40f1-c0fc-671f22f9d9ec\",\"type\":\"BasicTickFormatter\",\"attributes\":{\"id\":\"4473ce17-7b5a-40f1-c0fc-671f22f9d9ec\",\"tags\":[],\"doc\":null}},{\"id\":\"bfcd134d-ed90-4dd3-cd1e-272608ba7b79\",\"type\":\"BasicTicker\",\"attributes\":{\"num_minor_ticks\":5,\"id\":\"bfcd134d-ed90-4dd3-cd1e-272608ba7b79\",\"tags\":[],\"doc\":null}},{\"id\":\"526b14f2-e959-4543-c5e2-a0977418961b\",\"type\":\"LinearAxis\",\"attributes\":{\"formatter\":{\"type\":\"BasicTickFormatter\",\"id\":\"4473ce17-7b5a-40f1-c0fc-671f22f9d9ec\"},\"ticker\":{\"type\":\"BasicTicker\",\"id\":\"bfcd134d-ed90-4dd3-cd1e-272608ba7b79\"},\"plot\":{\"id\":\"c3e914dd-9ef0-4d30-cdc5-0950b2e84f97\",\"type\":\"Plot\",\"subtype\":\"Figure\"},\"axis_label\":null,\"id\":\"526b14f2-e959-4543-c5e2-a0977418961b\",\"doc\":null,\"tags\":[]}},{\"id\":\"f223fef1-7924-46de-c61f-da27bee49a77\",\"type\":\"Grid\",\"attributes\":{\"dimension\":0,\"plot\":{\"id\":\"c3e914dd-9ef0-4d30-cdc5-0950b2e84f97\",\"type\":\"Plot\",\"subtype\":\"Figure\"},\"ticker\":{\"type\":\"BasicTicker\",\"id\":\"bfcd134d-ed90-4dd3-cd1e-272608ba7b79\"},\"id\":\"f223fef1-7924-46de-c61f-da27bee49a77\",\"doc\":null,\"tags\":[]}},{\"id\":\"b028db9d-f21f-4c47-cc7f-31598ae7ef89\",\"type\":\"BasicTickFormatter\",\"attributes\":{\"id\":\"b028db9d-f21f-4c47-cc7f-31598ae7ef89\",\"tags\":[],\"doc\":null}},{\"id\":\"32f281dd-d787-4ac1-ca05-6634b67774cb\",\"type\":\"BasicTicker\",\"attributes\":{\"num_minor_ticks\":5,\"id\":\"32f281dd-d787-4ac1-ca05-6634b67774cb\",\"tags\":[],\"doc\":null}},{\"id\":\"4b176ccc-5fa2-4375-c34f-9a08a2ad51f2\",\"type\":\"LinearAxis\",\"attributes\":{\"formatter\":{\"type\":\"BasicTickFormatter\",\"id\":\"b028db9d-f21f-4c47-cc7f-31598ae7ef89\"},\"ticker\":{\"type\":\"BasicTicker\",\"id\":\"32f281dd-d787-4ac1-ca05-6634b67774cb\"},\"plot\":{\"id\":\"c3e914dd-9ef0-4d30-cdc5-0950b2e84f97\",\"type\":\"Plot\",\"subtype\":\"Figure\"},\"axis_label\":null,\"id\":\"4b176ccc-5fa2-4375-c34f-9a08a2ad51f2\",\"doc\":null,\"tags\":[]}},{\"id\":\"2c5ed6db-c7a4-4c91-ccb9-01d098f2b9c1\",\"type\":\"Grid\",\"attributes\":{\"dimension\":1,\"plot\":{\"id\":\"c3e914dd-9ef0-4d30-cdc5-0950b2e84f97\",\"type\":\"Plot\",\"subtype\":\"Figure\"},\"ticker\":{\"type\":\"BasicTicker\",\"id\":\"32f281dd-d787-4ac1-ca05-6634b67774cb\"},\"id\":\"2c5ed6db-c7a4-4c91-ccb9-01d098f2b9c1\",\"doc\":null,\"tags\":[]}},{\"id\":\"6fcf14a1-c7d6-4475-c45c-4f1a34b2c25c\",\"type\":\"PanTool\",\"attributes\":{\"plot\":{\"id\":\"c3e914dd-9ef0-4d30-cdc5-0950b2e84f97\",\"type\":\"Plot\",\"subtype\":\"Figure\"},\"dimensions\":[\"width\",\"height\"],\"id\":\"6fcf14a1-c7d6-4475-c45c-4f1a34b2c25c\",\"doc\":null,\"tags\":[]}},{\"id\":\"63d903d9-42a6-4eac-cec8-5b80ff5afcb3\",\"type\":\"WheelZoomTool\",\"attributes\":{\"plot\":{\"id\":\"c3e914dd-9ef0-4d30-cdc5-0950b2e84f97\",\"type\":\"Plot\",\"subtype\":\"Figure\"},\"dimensions\":[\"width\",\"height\"],\"id\":\"63d903d9-42a6-4eac-cec8-5b80ff5afcb3\",\"doc\":null,\"tags\":[]}},{\"id\":\"03bac975-9b9a-438a-c3a9-5a88240f7499\",\"type\":\"BoxZoomTool\",\"attributes\":{\"plot\":{\"id\":\"c3e914dd-9ef0-4d30-cdc5-0950b2e84f97\",\"type\":\"Plot\",\"subtype\":\"Figure\"},\"id\":\"03bac975-9b9a-438a-c3a9-5a88240f7499\",\"tags\":[],\"doc\":null}},{\"id\":\"11587a44-da13-4f1a-cfb0-5c52d1d69230\",\"type\":\"PreviewSaveTool\",\"attributes\":{\"plot\":{\"id\":\"c3e914dd-9ef0-4d30-cdc5-0950b2e84f97\",\"type\":\"Plot\",\"subtype\":\"Figure\"},\"id\":\"11587a44-da13-4f1a-cfb0-5c52d1d69230\",\"tags\":[],\"doc\":null}},{\"id\":\"89325772-6ad0-46c7-c6e7-2e863ff20c14\",\"type\":\"ResizeTool\",\"attributes\":{\"plot\":{\"id\":\"c3e914dd-9ef0-4d30-cdc5-0950b2e84f97\",\"type\":\"Plot\",\"subtype\":\"Figure\"},\"id\":\"89325772-6ad0-46c7-c6e7-2e863ff20c14\",\"tags\":[],\"doc\":null}},{\"id\":\"270f4066-aa4b-4d0d-cd48-c51a0717887b\",\"type\":\"ResetTool\",\"attributes\":{\"plot\":{\"id\":\"c3e914dd-9ef0-4d30-cdc5-0950b2e84f97\",\"type\":\"Plot\",\"subtype\":\"Figure\"},\"id\":\"270f4066-aa4b-4d0d-cd48-c51a0717887b\",\"tags\":[],\"doc\":null}},{\"id\":\"c3e914dd-9ef0-4d30-cdc5-0950b2e84f97\",\"type\":\"Plot\",\"attributes\":{\"x_range\":{\"type\":\"DataRange1d\",\"id\":\"79e9d9c4-4a28-4e17-ce72-74f85bda98cb\"},\"tool_events\":{\"type\":\"ToolEvents\",\"id\":\"3060bed5-c949-45a3-c5d9-2dc469b0b7a8\"},\"below\":[{\"type\":\"LinearAxis\",\"id\":\"526b14f2-e959-4543-c5e2-a0977418961b\"}],\"renderers\":[{\"type\":\"GlyphRenderer\",\"id\":\"513893b6-c1c5-428f-c2c0-0750323fd794\"},{\"type\":\"LinearAxis\",\"id\":\"526b14f2-e959-4543-c5e2-a0977418961b\"},{\"type\":\"Grid\",\"id\":\"f223fef1-7924-46de-c61f-da27bee49a77\"},{\"type\":\"LinearAxis\",\"id\":\"4b176ccc-5fa2-4375-c34f-9a08a2ad51f2\"},{\"type\":\"Grid\",\"id\":\"2c5ed6db-c7a4-4c91-ccb9-01d098f2b9c1\"}],\"above\":[],\"tools\":[{\"type\":\"PanTool\",\"id\":\"6fcf14a1-c7d6-4475-c45c-4f1a34b2c25c\"},{\"type\":\"WheelZoomTool\",\"id\":\"63d903d9-42a6-4eac-cec8-5b80ff5afcb3\"},{\"type\":\"BoxZoomTool\",\"id\":\"03bac975-9b9a-438a-c3a9-5a88240f7499\"},{\"type\":\"PreviewSaveTool\",\"id\":\"11587a44-da13-4f1a-cfb0-5c52d1d69230\"},{\"type\":\"ResizeTool\",\"id\":\"89325772-6ad0-46c7-c6e7-2e863ff20c14\"},{\"type\":\"ResetTool\",\"id\":\"270f4066-aa4b-4d0d-cd48-c51a0717887b\"}],\"doc\":null,\"right\":[],\"title\":\"Untitled Plot\",\"extra_x_ranges\":{},\"left\":[{\"type\":\"LinearAxis\",\"id\":\"4b176ccc-5fa2-4375-c34f-9a08a2ad51f2\"}],\"y_range\":{\"type\":\"DataRange1d\",\"id\":\"3f947ee5-3034-420f-c254-64fb6852581e\"},\"id\":\"c3e914dd-9ef0-4d30-cdc5-0950b2e84f97\",\"extra_y_ranges\":{},\"tags\":[]}}];\n",
       "      Bokeh.load_models(all_models);\n",
       "      var model = Bokeh.Collections(modeltype).get(modelid);\n",
       "      $(\"#c68f8bee-12c0-4034-c085-296b6310d5ad\").html(''); // clear any previous plot in window_id\n",
       "      var view = new model.default_view({model: model, el: \"#c68f8bee-12c0-4034-c085-296b6310d5ad\"});\n",
       "  });\n",
       "    }\n",
       "});\n",
       "</script>\n",
       "<div class=\"plotdiv\" id=\"c68f8bee-12c0-4034-c085-296b6310d5ad\"></div>\n"
      ]
     },
     "metadata": {},
     "output_type": "display_data"
    }
   ],
   "source": [
    "local o = torch.reshape(conv.weight:double(), conv.weight:nElement())\n",
    "hist = Plot():histogram(o):draw()"
   ]
  },
  {
   "cell_type": "code",
   "execution_count": 61,
   "metadata": {
    "collapsed": false
   },
   "outputs": [
    {
     "data": {
      "text/plain": [
       "{\n",
       "  50000 : 2.6374568141157\n",
       "  80000 : 2.6163802461257\n",
       "  100000 : 2.6022792777015\n",
       "  120000 : 2.5639409189158\n",
       "  30000 : 2.6707400000779\n",
       "  60000 : 2.6339528820565\n",
       "  10000 : 2.7747488700193\n",
       "  20000 : 2.7230536927543\n",
       "  90000 : 2.6273057136602\n",
       "  70000 : 2.6617152373341\n",
       "  110000 : 2.616251126276\n",
       "  40000 : 2.6297837164019\n",
       "}\n"
      ]
     },
     "execution_count": 61,
     "metadata": {},
     "output_type": "execute_result"
    }
   ],
   "source": [
    "model.val_losses"
   ]
  },
  {
   "cell_type": "code",
   "execution_count": null,
   "metadata": {
    "collapsed": true
   },
   "outputs": [],
   "source": []
  }
 ],
 "metadata": {
  "kernelspec": {
   "display_name": "iTorch",
   "language": "lua",
   "name": "itorch"
  },
  "language_info": {
   "name": "lua",
   "version": "20100"
  }
 },
 "nbformat": 4,
 "nbformat_minor": 0
}
