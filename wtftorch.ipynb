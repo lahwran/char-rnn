{
 "cells": [
  {
   "cell_type": "code",
   "execution_count": 45,
   "metadata": {
    "collapsed": false
   },
   "outputs": [],
   "source": [
    "x = torch.range(0, 999)"
   ]
  },
  {
   "cell_type": "code",
   "execution_count": 78,
   "metadata": {
    "collapsed": false
   },
   "outputs": [],
   "source": [
    "x = x:view(100, -1):split(4, 2)"
   ]
  },
  {
   "cell_type": "code",
   "execution_count": 80,
   "metadata": {
    "collapsed": false
   },
   "outputs": [
    {
     "data": {
      "text/plain": [
       " 0\n",
       " 1\n",
       " 2\n",
       " 3\n",
       "[torch.DoubleTensor of size 4]\n",
       "\n"
      ]
     },
     "execution_count": 80,
     "metadata": {},
     "output_type": "execute_result"
    }
   ],
   "source": [
    "x[1][1]"
   ]
  },
  {
   "cell_type": "code",
   "execution_count": 81,
   "metadata": {
    "collapsed": false
   },
   "outputs": [
    {
     "data": {
      "text/plain": [
       " 4\n",
       " 5\n",
       " 6\n",
       " 7\n",
       "[torch.DoubleTensor of size 4]\n",
       "\n"
      ]
     },
     "execution_count": 81,
     "metadata": {},
     "output_type": "execute_result"
    }
   ],
   "source": [
    "x[2][1]"
   ]
  },
  {
   "cell_type": "code",
   "execution_count": 82,
   "metadata": {
    "collapsed": false
   },
   "outputs": [
    {
     "data": {
      "text/plain": [
       " 8\n",
       " 9\n",
       "[torch.DoubleTensor of size 2]\n",
       "\n"
      ]
     },
     "execution_count": 82,
     "metadata": {},
     "output_type": "execute_result"
    }
   ],
   "source": [
    "x[3][1]"
   ]
  },
  {
   "cell_type": "code",
   "execution_count": null,
   "metadata": {
    "collapsed": true
   },
   "outputs": [],
   "source": []
  },
  {
   "cell_type": "code",
   "execution_count": 47,
   "metadata": {
    "collapsed": false
   },
   "outputs": [],
   "source": [
    "require 'nn'\n",
    "a = nn.CMulTable()"
   ]
  },
  {
   "cell_type": "code",
   "execution_count": 48,
   "metadata": {
    "collapsed": true
   },
   "outputs": [],
   "source": [
    "z = {torch.ones(5, 5, 5)*2, torch.ones(5, 5, 5)*3, torch.ones(5, 5, 5)*4}"
   ]
  },
  {
   "cell_type": "code",
   "execution_count": 49,
   "metadata": {
    "collapsed": false
   },
   "outputs": [
    {
     "data": {
      "text/plain": [
       "{\n",
       "  1 : DoubleTensor - size: 5x5x5\n",
       "  2 : DoubleTensor - size: 5x5x5\n",
       "  3 : DoubleTensor - size: 5x5x5\n",
       "}\n"
      ]
     },
     "execution_count": 49,
     "metadata": {},
     "output_type": "execute_result"
    }
   ],
   "source": [
    "z"
   ]
  },
  {
   "cell_type": "code",
   "execution_count": 50,
   "metadata": {
    "collapsed": false
   },
   "outputs": [],
   "source": [
    "w = a:forward(z)"
   ]
  },
  {
   "cell_type": "code",
   "execution_count": 51,
   "metadata": {
    "collapsed": false
   },
   "outputs": [
    {
     "data": {
      "text/plain": [
       "(1,.,.) = \n",
       "  24  24  24  24  24\n",
       "  24  24  24  24  24\n",
       "  24  24  24  24  24\n",
       "  24  24  24  24  24\n",
       "  24  24  24  24  24\n",
       "\n",
       "(2,.,.) = \n",
       "  24  24  24  24  24\n",
       "  24  24  24  24  24\n",
       "  24  24  24  24  24\n",
       "  24  24  24  24  24\n",
       "  24  24  24  24  24\n",
       "\n",
       "(3,.,.) = \n",
       "  24  24  24  24  24\n",
       "  24  24  24  24  24\n",
       "  24  24  24  24  24\n",
       "  24  24  24  24  24\n",
       "  24  24  24  24  24\n",
       "\n",
       "(4,.,.) = \n",
       "  24  24  24  24  24\n",
       "  24  24  24  24  24\n",
       "  24  24  24  24  24\n",
       "  24  24  24  24  24\n",
       "  24  24  24  24  24\n",
       "\n",
       "(5,.,.) = \n",
       "  24  24  24  24  24\n",
       "  24  24  24  24  24\n",
       "  24  24  24  24  24\n",
       "  24  24  24  24  24\n",
       "  24  24  24  24  24\n",
       "[torch.DoubleTensor of size 5x5x5]\n",
       "\n"
      ]
     },
     "execution_count": 51,
     "metadata": {},
     "output_type": "execute_result"
    }
   ],
   "source": [
    "w"
   ]
  },
  {
   "cell_type": "code",
   "execution_count": 52,
   "metadata": {
    "collapsed": false
   },
   "outputs": [],
   "source": [
    "t = torch.range(0, 4)\n",
    "w[{{}, 3, 3}] = t"
   ]
  },
  {
   "cell_type": "code",
   "execution_count": 53,
   "metadata": {
    "collapsed": false
   },
   "outputs": [
    {
     "data": {
      "text/plain": [
       "(1,.,.) = \n",
       "  24  24  24  24  24\n",
       "  24  24  24  24  24\n",
       "  24  24   0  24  24\n",
       "  24  24  24  24  24\n",
       "  24  24  24  24  24\n",
       "\n",
       "(2,.,.) = \n",
       "  24  24  24  24  24\n",
       "  24  24  24  24  24\n",
       "  24  24   1  24  24\n",
       "  24  24  24  24  24\n",
       "  24  24  24  24  24\n",
       "\n",
       "(3,.,.) = \n",
       "  24  24  24  24  24\n",
       "  24  24  24  24  24\n",
       "  24  24   2  24  24\n",
       "  24  24  24  24  24\n",
       "  24  24  24  24  24\n",
       "\n",
       "(4,.,.) = \n",
       "  24  24  24  24  24\n",
       "  24  24  24  24  24\n",
       "  24  24   3  24  24\n",
       "  24  24  24  24  24\n",
       "  24  24  24  24  24\n",
       "\n",
       "(5,.,.) = \n",
       "  24  24  24  24  24\n",
       "  24  24  24  24  24\n",
       "  24  24   4  24  24\n",
       "  24  24  24  24  24\n",
       "  24  24  24  24  24\n",
       "[torch.DoubleTensor of size 5x5x5]\n",
       "\n"
      ]
     },
     "execution_count": 53,
     "metadata": {},
     "output_type": "execute_result"
    }
   ],
   "source": [
    "w"
   ]
  },
  {
   "cell_type": "code",
   "execution_count": 54,
   "metadata": {
    "collapsed": false
   },
   "outputs": [
    {
     "data": {
      "text/plain": [
       "(1,.,.) = \n",
       "  0  0  0  0  0\n",
       "  0  0  0  0  0\n",
       "  0  0  0  0  0\n",
       "  0  0  0  0  0\n",
       "  0  0  0  0  0\n",
       "\n",
       "(2,.,.) = \n",
       "  0  0  0  0  0\n",
       "  0  0  0  0  0\n",
       "  0  0  0  0  0\n",
       "  0  0  0  0  0\n",
       "  0  0  0  0  0\n",
       "\n",
       "(3,.,.) = \n",
       "  0  0  0  0  0\n",
       "  0  0  0  0  0\n",
       "  0  0  0  0  0\n",
       "  0  0  0  0  0\n",
       "  0  0  0  0  0\n",
       "\n",
       "(4,.,.) = \n",
       "  0  0  0  0  0\n",
       "  0  0  0  0  0\n",
       "  0  0  0  0  0\n",
       "  0  0  0  0  0\n",
       "  0  0  0  0  0\n",
       "\n",
       "(5,.,.) = \n",
       "  0  0  0  0  0\n",
       "  0  0  0  0  0\n",
       "  0  0  0  0  0\n",
       "  0  0  0  0  0\n",
       "  0  0  0  0  0\n",
       "[torch.DoubleTensor of size 5x5x5]\n",
       "\n"
      ]
     },
     "execution_count": 54,
     "metadata": {},
     "output_type": "execute_result"
    }
   ],
   "source": [
    "torch.zeros(unpack({5, 5, 5}))"
   ]
  },
  {
   "cell_type": "code",
   "execution_count": 55,
   "metadata": {
    "collapsed": false
   },
   "outputs": [],
   "source": [
    "require 'nngraph'\n",
    "require 'util.WriteSlice'"
   ]
  },
  {
   "cell_type": "code",
   "execution_count": 56,
   "metadata": {
    "collapsed": false
   },
   "outputs": [],
   "source": [
    "q = WriteSlice({{}, 5, 5})"
   ]
  },
  {
   "cell_type": "code",
   "execution_count": 57,
   "metadata": {
    "collapsed": false
   },
   "outputs": [],
   "source": [
    "derp = nn.Identity()()\n",
    "zerp = nn.Identity()()\n",
    "herp = q({derp, zerp})\n",
    "whamp = nn.gModule({derp, zerp}, {herp})"
   ]
  },
  {
   "cell_type": "code",
   "execution_count": 58,
   "metadata": {
    "collapsed": false
   },
   "outputs": [
    {
     "data": {
      "text/plain": [
       "nngraph.Node\n",
       "{\n",
       "  data : \n",
       "    {\n",
       "      module : \n",
       "        WriteSlice\n",
       "        {\n",
       "          gradInput : DoubleTensor - empty\n",
       "          slice : \n",
       "            {\n",
       "              1 : table: 0x0d6a4068\n",
       "              2 : 5\n",
       "              3 : 5\n",
       "            }\n",
       "          output : DoubleTensor - empty\n",
       "        }\n",
       "      mapindex : \n",
       "        {\n",
       "          1 : \n",
       "            {\n",
       "              module : \n",
       "                nn.Identity\n",
       "                {\n",
       "                  gradInput : DoubleTensor - empty\n",
       "                  output : DoubleTensor - empty\n",
       "                }\n",
       "              mapindex : \n",
       "                {\n",
       "                  1 : table: 0x0d683480\n",
       "                  table: 0x0d683480 : 1\n",
       "                }\n",
       "              forwardNodeId : 3\n",
       "              annotations : \n",
       "                {\n",
       "                  _debugLabel : [[string \"derp = nn.Identity()()...\"]]:1_\n",
       "                }\n",
       "            }\n",
       "          2 : \n",
       "            {\n",
       "              module : \n",
       "                nn.Identity\n",
       "                {\n",
       "                  gradInput : DoubleTensor - empty\n",
       "                  output : DoubleTensor - empty\n",
       "                }\n",
       "              mapindex : \n",
       "                {\n",
       "                  1 : table: 0x0d630aa8\n",
       "                  table: 0x0d630aa8 : 1\n",
       "                }\n",
       "              forwardNodeId : 4\n",
       "              annotations : \n",
       "                {\n",
       "                  _debugLabel : [[string \"derp = nn.Identity()()...\"]]:2_\n",
       "                }\n",
       "            }\n",
       "          table: 0x0d634d78 : 2\n",
       "          table: 0x0d693820 : 1\n",
       "        }\n",
       "      forwardNodeId : 1\n",
       "      annotations : \n",
       "        {\n",
       "          _debugLabel : [[string \"derp = nn.Identity()()...\"]]:3_\n",
       "        }\n",
       "    }\n",
       "  visited : false\n",
       "  id : 2\n",
       "  marked : false\n",
       "  children : \n",
       "    {\n",
       "      1 : \n",
       "        nngraph.Node\n",
       "        {\n",
       "          data : \n",
       "            {\n",
       "              module : \n",
       "                nn.Identity\n",
       "                {\n",
       "                  gradInput : DoubleTensor - empty\n",
       "                  output : DoubleTensor - empty\n",
       "                }\n",
       "              mapindex : \n",
       "                {\n",
       "                  1 : table: 0x0d683480\n",
       "                  table: 0x0d683480 : 1\n",
       "                }\n",
       "              forwardNodeId : 3\n",
       "              annotations : \n",
       "                {\n",
       "                  _debugLabel : [[string \"derp = nn.Identity()()...\"]]:1_\n",
       " "
      ]
     },
     "execution_count": 58,
     "metadata": {},
     "output_type": "execute_result"
    },
    {
     "data": {
      "text/plain": [
       "               }\n",
       "            }\n",
       "          visited : false\n",
       "          id : 3\n",
       "          marked : false\n",
       "          children : \n",
       "            {\n",
       "              1 : \n",
       "                nngraph.Node\n",
       "                {\n",
       "                  data : table: 0x0d683480\n",
       "                  visited : false\n",
       "                  id : 5\n",
       "                  marked : false\n",
       "                  children : table: 0x0d6313e0\n",
       "                }\n",
       "              nngraph.Node : 1\n",
       "            }\n",
       "        }\n",
       "      2 : \n",
       "        nngraph.Node\n",
       "        {\n",
       "          data : \n",
       "            {\n",
       "              module : \n",
       "                nn.Identity\n",
       "                {\n",
       "                  gradInput : DoubleTensor - empty\n",
       "                  output : DoubleTensor - empty\n",
       "                }\n",
       "              mapindex : \n",
       "                {\n",
       "                  1 : table: 0x0d630aa8\n",
       "                  table: 0x0d630aa8 : 1\n",
       "                }\n",
       "              forwardNodeId : 4\n",
       "              annotations : \n",
       "                {\n",
       "                  _debugLabel : [[string \"derp = nn.Identity()()...\"]]:2_\n",
       "                }\n",
       "            }\n",
       "          visited : false\n",
       "          id : 4\n",
       "          marked : false\n",
       "          children : \n",
       "            {\n",
       "              1 : \n",
       "                nngraph.Node\n",
       "                {\n",
       "                  data : table: 0x0d630aa8\n",
       "                  visited : false\n",
       "                  id : 6\n",
       "                  marked : false\n",
       "                  children : table: 0x0d631440\n",
       "                }\n",
       "              nngraph.Node : 1\n",
       "            }\n",
       "        }\n",
       "      nngraph.Node : 1\n",
       "      nngraph.Node : 2\n",
       "    }\n",
       "}\n"
      ]
     },
     "execution_count": 58,
     "metadata": {},
     "output_type": "execute_result"
    }
   ],
   "source": [
    "herp"
   ]
  },
  {
   "cell_type": "code",
   "execution_count": 59,
   "metadata": {
    "collapsed": false
   },
   "outputs": [],
   "source": [
    "whamp:forward{torch.range(1, 5), torch.zeros(5, 5, 5)}"
   ]
  },
  {
   "cell_type": "code",
   "execution_count": 60,
   "metadata": {
    "collapsed": false
   },
   "outputs": [],
   "source": [
    "inputs = {nn.Identity()(), nn.Identity()()}\n",
    "embedded = nn.LookupTable(5, 30)(inputs[1])\n",
    "updated_h = WriteSlice({{}, 3, 3})({embedded, inputs[2]})\n",
    "wwww = nn.gModule(inputs, {updated_h})"
   ]
  },
  {
   "cell_type": "code",
   "execution_count": 61,
   "metadata": {
    "collapsed": false
   },
   "outputs": [],
   "source": [
    "a = torch.Tensor(1)\n",
    "a[1] = 3\n",
    "result = wwww:forward({a, torch.zeros(30, 5, 5)})"
   ]
  },
  {
   "cell_type": "code",
   "execution_count": 62,
   "metadata": {
    "collapsed": false
   },
   "outputs": [],
   "source": [
    "result"
   ]
  },
  {
   "cell_type": "code",
   "execution_count": null,
   "metadata": {
    "collapsed": true
   },
   "outputs": [],
   "source": []
  },
  {
   "cell_type": "code",
   "execution_count": 63,
   "metadata": {
    "collapsed": false
   },
   "outputs": [],
   "source": [
    "hhhhhh = torch.ones(5, 5, 5) * 10"
   ]
  },
  {
   "cell_type": "code",
   "execution_count": 64,
   "metadata": {
    "collapsed": false
   },
   "outputs": [
    {
     "data": {
      "text/plain": [
       "(1,.,.) = \n",
       "  10  10  10  10  10\n",
       "  10  10  10  10  10\n",
       "  10  10  10  10  10\n",
       "  10  10  10  10  10\n",
       "  10  10  10  10  10\n",
       "\n",
       "(2,.,.) = \n",
       "  10  10  10  10  10\n",
       "  10  10  10  10  10\n",
       "  10  10  10  10  10\n",
       "  10  10  10  10  10\n",
       "  10  10  10  10  10\n",
       "\n",
       "(3,.,.) = \n",
       "  10  10  10  10  10\n",
       "  10  10  10  10  10\n",
       "  10  10  10  10  10\n",
       "  10  10  10  10  10\n",
       "  10  10  10  10  10\n",
       "\n",
       "(4,.,.) = \n",
       "  10  10  10  10  10\n",
       "  10  10  10  10  10\n",
       "  10  10  10  10  10\n",
       "  10  10  10  10  10\n",
       "  10  10  10  10  10\n",
       "\n",
       "(5,.,.) = \n",
       "  10  10  10  10  10\n",
       "  10  10  10  10  10\n",
       "  10  10  10  10  10\n",
       "  10  10  10  10  10\n",
       "  10  10  10  10  10\n",
       "[torch.DoubleTensor of size 5x5x5]\n",
       "\n"
      ]
     },
     "execution_count": 64,
     "metadata": {},
     "output_type": "execute_result"
    }
   ],
   "source": [
    "hhhhhh"
   ]
  },
  {
   "cell_type": "code",
   "execution_count": 65,
   "metadata": {
    "collapsed": false
   },
   "outputs": [],
   "source": [
    "hhhhhh[{{}, 5, 5}]:zero()"
   ]
  },
  {
   "cell_type": "code",
   "execution_count": 66,
   "metadata": {
    "collapsed": false
   },
   "outputs": [
    {
     "data": {
      "text/plain": [
       "(1,.,.) = \n",
       "  10  10  10  10  10\n",
       "  10  10  10  10  10\n",
       "  10  10  10  10  10\n",
       "  10  10  10  10  10\n",
       "  10  10  10  10   0\n",
       "\n",
       "(2,.,.) = \n",
       "  10  10  10  10  10\n",
       "  10  10  10  10  10\n",
       "  10  10  10  10  10\n",
       "  10  10  10  10  10\n",
       "  10  10  10  10   0\n",
       "\n",
       "(3,.,.) = \n",
       "  10  10  10  10  10\n",
       "  10  10  10  10  10\n",
       "  10  10  10  10  10\n",
       "  10  10  10  10  10\n",
       "  10  10  10  10   0\n",
       "\n",
       "(4,.,.) = \n",
       "  10  10  10  10  10\n",
       "  10  10  10  10  10\n",
       "  10  10  10  10  10\n",
       "  10  10  10  10  10\n",
       "  10  10  10  10   0\n",
       "\n",
       "(5,.,.) = \n",
       "  10  10  10  10  10\n",
       "  10  10  10  10  10\n",
       "  10  10  10  10  10\n",
       "  10  10  10  10  10\n",
       "  10  10  10  10   0\n",
       "[torch.DoubleTensor of size 5x5x5]\n",
       "\n"
      ]
     },
     "execution_count": 66,
     "metadata": {},
     "output_type": "execute_result"
    }
   ],
   "source": [
    "hhhhhh"
   ]
  },
  {
   "cell_type": "code",
   "execution_count": 67,
   "metadata": {
    "collapsed": true
   },
   "outputs": [],
   "source": [
    "inp = nn.Identity()()\n",
    "oup = nn.Identity()(inp)"
   ]
  },
  {
   "cell_type": "code",
   "execution_count": 68,
   "metadata": {
    "collapsed": true
   },
   "outputs": [],
   "source": [
    "out = nn.Identity()(inp)"
   ]
  },
  {
   "cell_type": "code",
   "execution_count": 69,
   "metadata": {
    "collapsed": true
   },
   "outputs": [],
   "source": [
    "wahh = nn.gModule({inp}, {oup, out})"
   ]
  },
  {
   "cell_type": "code",
   "execution_count": 70,
   "metadata": {
    "collapsed": true
   },
   "outputs": [],
   "source": [
    "asadf = torch.zeros(20)\n",
    "result = wahh:forward(asadf)"
   ]
  },
  {
   "cell_type": "code",
   "execution_count": 74,
   "metadata": {
    "collapsed": false
   },
   "outputs": [],
   "source": [
    "fives = torch.ones(20) * 5\n",
    "fifties = torch.ones(20) * 50\n",
    "pphhphph = wahh:backward(asadf, {fives, fifties})"
   ]
  },
  {
   "cell_type": "code",
   "execution_count": 75,
   "metadata": {
    "collapsed": false
   },
   "outputs": [
    {
     "data": {
      "text/plain": [
       " 55\n",
       " 55\n",
       " 55\n",
       " 55\n",
       " 55\n",
       " 55\n",
       " 55\n",
       " 55\n",
       " 55\n",
       " 55\n",
       " 55\n",
       " 55\n",
       " 55\n",
       " 55\n",
       " 55\n",
       " 55\n",
       " 55\n",
       " 55\n",
       " 55\n",
       " 55\n",
       "[torch.DoubleTensor of size 20]\n",
       "\n"
      ]
     },
     "execution_count": 75,
     "metadata": {},
     "output_type": "execute_result"
    }
   ],
   "source": [
    "pphhphph"
   ]
  },
  {
   "cell_type": "code",
   "execution_count": null,
   "metadata": {
    "collapsed": true
   },
   "outputs": [],
   "source": []
  }
 ],
 "metadata": {
  "kernelspec": {
   "display_name": "iTorch",
   "language": "lua",
   "name": "itorch"
  },
  "language_info": {
   "name": "lua",
   "version": "20100"
  }
 },
 "nbformat": 4,
 "nbformat_minor": 0
}
