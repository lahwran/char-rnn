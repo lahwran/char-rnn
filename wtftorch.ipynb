{
 "cells": [
  {
   "cell_type": "code",
   "execution_count": 1,
   "metadata": {
    "collapsed": false
   },
   "outputs": [],
   "source": [
    "x = torch.range(0, 999)"
   ]
  },
  {
   "cell_type": "code",
   "execution_count": 2,
   "metadata": {
    "collapsed": false
   },
   "outputs": [],
   "source": [
    "x = x:view(100, -1):split(4, 2)"
   ]
  },
  {
   "cell_type": "code",
   "execution_count": 3,
   "metadata": {
    "collapsed": false
   },
   "outputs": [],
   "source": [
    "x[1][1]"
   ]
  },
  {
   "cell_type": "code",
   "execution_count": 4,
   "metadata": {
    "collapsed": false
   },
   "outputs": [],
   "source": [
    "x[2][1]"
   ]
  },
  {
   "cell_type": "code",
   "execution_count": 5,
   "metadata": {
    "collapsed": false
   },
   "outputs": [
    {
     "data": {
      "text/plain": [
       " 4\n",
       " 5\n",
       " 6\n",
       " 7\n",
       "[torch.DoubleTensor of size 4]\n",
       "\n",
       " 8\n",
       " 9\n",
       "[torch.DoubleTensor of size 2]\n",
       "\n"
      ]
     },
     "execution_count": 5,
     "metadata": {},
     "output_type": "execute_result"
    }
   ],
   "source": [
    "x[3][1]"
   ]
  },
  {
   "cell_type": "code",
   "execution_count": null,
   "metadata": {
    "collapsed": true
   },
   "outputs": [],
   "source": []
  },
  {
   "cell_type": "code",
   "execution_count": 6,
   "metadata": {
    "collapsed": false
   },
   "outputs": [],
   "source": [
    "require 'nn'\n",
    "a = nn.CMulTable()"
   ]
  },
  {
   "cell_type": "code",
   "execution_count": 7,
   "metadata": {
    "collapsed": true
   },
   "outputs": [],
   "source": [
    "z = {torch.ones(5, 5, 5)*2, torch.ones(5, 5, 5)*3, torch.ones(5, 5, 5)*4}"
   ]
  },
  {
   "cell_type": "code",
   "execution_count": 8,
   "metadata": {
    "collapsed": false
   },
   "outputs": [],
   "source": [
    "z"
   ]
  },
  {
   "cell_type": "code",
   "execution_count": 9,
   "metadata": {
    "collapsed": false
   },
   "outputs": [],
   "source": [
    "w = a:forward(z)"
   ]
  },
  {
   "cell_type": "code",
   "execution_count": 10,
   "metadata": {
    "collapsed": false
   },
   "outputs": [],
   "source": [
    "w"
   ]
  },
  {
   "cell_type": "code",
   "execution_count": 11,
   "metadata": {
    "collapsed": false
   },
   "outputs": [
    {
     "data": {
      "text/plain": [
       "(1,.,.) = \n",
       "  24  24  24  24  24\n",
       "  24  24  24  24  24\n",
       "  24  24  24  24  24\n",
       "  24  24  24  24  24\n",
       "  24  24  24  24  24\n",
       "\n",
       "(2,.,.) = \n",
       "  24  24  24  24  24\n",
       "  24  24  24  24  24\n",
       "  24  24  24  24  24\n",
       "  24  24  24  24  24\n",
       "  24  24  24  24  24\n",
       "\n",
       "(3,.,.) = \n",
       "  24  24  24  24  24\n",
       "  24  24  24  24  24\n",
       "  24  24  24  24  24\n",
       "  24  24  24  24  24\n",
       "  24  24  24  24  24\n",
       "\n",
       "(4,.,.) = \n",
       "  24  24  24  24  24\n",
       "  24  24  24  24  24\n",
       "  24  24  24  24  24\n",
       "  24  24  24  24  24\n",
       "  24  24  24  24  24\n",
       "\n",
       "(5,.,.) = \n",
       "  24  24  24  24  24\n",
       "  24  24  24  24  24\n",
       "  24  24  24  24  24\n",
       "  24  24  24  24  24\n",
       "  24  24  24  24  24\n",
       "[torch.DoubleTensor of size 5x5x5]\n",
       "\n"
      ]
     },
     "execution_count": 11,
     "metadata": {},
     "output_type": "execute_result"
    }
   ],
   "source": [
    "t = torch.range(0, 4)\n",
    "w[{{}, 3, 3}] = t"
   ]
  },
  {
   "cell_type": "code",
   "execution_count": 12,
   "metadata": {
    "collapsed": false
   },
   "outputs": [],
   "source": [
    "w"
   ]
  },
  {
   "cell_type": "code",
   "execution_count": 13,
   "metadata": {
    "collapsed": false
   },
   "outputs": [
    {
     "data": {
      "text/plain": [
       "(1,.,.) = \n",
       "  24  24  24  24  24\n",
       "  24  24  24  24  24\n",
       "  24  24   0  24  24\n",
       "  24  24  24  24  24\n",
       "  24  24  24  24  24\n",
       "\n",
       "(2,.,.) = \n",
       "  24  24  24  24  24\n",
       "  24  24  24  24  24\n",
       "  24  24   1  24  24\n",
       "  24  24  24  24  24\n",
       "  24  24  24  24  24\n",
       "\n",
       "(3,.,.) = \n",
       "  24  24  24  24  24\n",
       "  24  24  24  24  24\n",
       "  24  24   2  24  24\n",
       "  24  24  24  24  24\n",
       "  24  24  24  24  24\n",
       "\n",
       "(4,.,.) = \n",
       "  24  24  24  24  24\n",
       "  24  24  24  24  24\n",
       "  24  24   3  24  24\n",
       "  24  24  24  24  24\n",
       "  24  24  24  24  24\n",
       "\n",
       "(5,.,.) = \n",
       "  24  24  24  24  24\n",
       "  24  24  24  24  24\n",
       "  24  24   4  24  24\n",
       "  24  24  24  24  24\n",
       "  24  24  24  24  24\n",
       "[torch.DoubleTensor of size 5x5x5]\n",
       "\n",
       "(1,.,.) = \n",
       "  0  0  0  0  0\n",
       "  0  0  0  0  0\n",
       "  0  0  0  0  0\n",
       "  0  0  0  0  0\n",
       "  0  0  0  0  0\n",
       "\n",
       "(2,.,.) = \n",
       "  0  0  0  0  0\n",
       "  0  0  0  0  0\n",
       "  0  0  0  0  0\n",
       "  0  0  0  0  0\n",
       "  0  0  0  0  0\n",
       "\n",
       "(3,.,.) = \n",
       "  0  0  0  0  0\n",
       "  0  0  0  0  0\n",
       "  0  0  0  0  0\n",
       "  0  0  0  0  0\n",
       "  0  0  0  0  0\n",
       "\n",
       "(4,.,.) = \n",
       "  0  0  0  0  0\n",
       "  0  0  0  0  0\n",
       "  0  0  0  0  0\n",
       "  0  0  0  0  0\n",
       "  0  0  0  0  0\n",
       "\n",
       "(5,.,.) = \n",
       "  0  0  0  0  0\n",
       "  0  0  0  0  0\n",
       "  0  0  0  0  0\n",
       "  0  0  0  0  0\n",
       "  0  0  0  0  0\n",
       "[torch.DoubleTensor of size 5x5x5]\n",
       "\n"
      ]
     },
     "execution_count": 13,
     "metadata": {},
     "output_type": "execute_result"
    }
   ],
   "source": [
    "torch.zeros(unpack({5, 5, 5}))"
   ]
  },
  {
   "cell_type": "code",
   "execution_count": 14,
   "metadata": {
    "collapsed": false
   },
   "outputs": [],
   "source": [
    "require 'nngraph'\n",
    "require 'util.WriteSlice'"
   ]
  },
  {
   "cell_type": "code",
   "execution_count": 15,
   "metadata": {
    "collapsed": false
   },
   "outputs": [],
   "source": [
    "q = WriteSlice({{}, 5, 5})"
   ]
  },
  {
   "cell_type": "code",
   "execution_count": 16,
   "metadata": {
    "collapsed": false
   },
   "outputs": [],
   "source": [
    "derp = nn.Identity()()\n",
    "zerp = nn.Identity()()\n",
    "herp = q({derp, zerp})\n",
    "whamp = nn.gModule({derp, zerp}, {herp})"
   ]
  },
  {
   "cell_type": "code",
   "execution_count": 17,
   "metadata": {
    "collapsed": false
   },
   "outputs": [
    {
     "data": {
      "text/plain": [
       "nngraph.Node\n",
       "{\n",
       "  data : \n",
       "    {\n",
       "      module : \n",
       "        WriteSlice\n",
       "        {\n",
       "          gradInput : table: 0x4106e2d0\n",
       "          slice : \n",
       "            {\n",
       "              1 : table: 0x4106df30\n",
       "              2 : 5\n",
       "              3 : 5\n",
       "            }\n",
       "          output : DoubleTensor - empty\n",
       "        }\n",
       "      mapindex : \n",
       "        {\n",
       "          1 : \n",
       "            {\n",
       "              module : \n",
       "                nn.Identity\n",
       "                {\n",
       "                  gradInput : DoubleTensor - empty\n",
       "                  output : DoubleTensor - empty\n",
       "                }\n",
       "              mapindex : \n",
       "                {\n",
       "                  1 : table: 0x41072be0\n",
       "       "
      ]
     },
     "execution_count": 17,
     "metadata": {},
     "output_type": "execute_result"
    },
    {
     "data": {
      "text/plain": [
       "           table: 0x41072be0 : 1\n",
       "                }\n",
       "              forwardNodeId : 3\n",
       "              annotations : \n",
       "                {\n",
       "                  _debugLabel : [[string \"derp = nn.Identity()()...\"]]:1\n",
       "                }\n",
       "            }\n",
       "          2 : \n",
       "            {\n",
       "              module : \n",
       "                nn.Identity\n",
       "                {\n",
       "                  gradInput : DoubleTensor - empty\n",
       "                  output : DoubleTensor - empty\n",
       "                }\n",
       "              mapindex : \n",
       "                {\n",
       "                  1 : table: 0x41072f50\n",
       "                  table: 0x41072f50 : 1\n",
       "                }\n",
       "              forwardNodeId : 4\n",
       "              annotations : \n",
       "                {\n",
       "                  _debugLabel : [[string \"derp = nn.Identity()()...\"]]:2\n",
       "                }\n",
       "            }\n",
       "          table: 0x41071418 : 2\n",
       "          table: 0x41070cc0 : 1\n",
       "        }\n",
       "      forwardNodeId : 1\n",
       "      annotations : \n",
       "      "
      ]
     },
     "execution_count": 17,
     "metadata": {},
     "output_type": "execute_result"
    },
    {
     "data": {
      "text/plain": [
       "  {\n",
       "          _debugLabel : [[string \"derp = nn.Identity()()...\"]]:3\n",
       "        }\n",
       "    }\n",
       "  visited : false\n",
       "  id : 2\n",
       "  marked : false\n",
       "  children : \n",
       "    {\n",
       "      1 : \n",
       "        nngraph.Node\n",
       "        {\n",
       "          data : \n",
       "            {\n",
       "              module : \n",
       "                nn.Identity\n",
       "                {\n",
       "                  gradInput : DoubleTensor - empty\n",
       "                  output : DoubleTensor - empty\n",
       "                }\n",
       "              mapindex : \n",
       "                {\n",
       "                  1 : table: 0x41072be0\n",
       "                  table: 0x41072be0 : 1\n",
       "                }\n",
       "              forwardNodeId : 3\n",
       "              annotations : \n",
       "                {\n",
       "                  _debugLabel : [[string \"derp = nn.Identity()()...\"]]:1\n",
       "                }\n",
       "            }\n",
       "          visited : false\n",
       "          id : 3\n",
       "          marked : false\n",
       "          children : \n",
       "            {\n",
       "              1 : \n",
       "                nngraph.Node\n",
       "    "
      ]
     },
     "execution_count": 17,
     "metadata": {},
     "output_type": "execute_result"
    },
    {
     "data": {
      "text/plain": [
       "            {\n",
       "                  data : table: 0x41072be0\n",
       "                  visited : false\n",
       "                  id : 5\n",
       "                  marked : false\n",
       "                  children : table: 0x41072d80\n",
       "                }\n",
       "              nngraph.Node : 1\n",
       "            }\n",
       "        }\n",
       "      2 : \n",
       "        nngraph.Node\n",
       "        {\n",
       "          data : \n",
       "            {\n",
       "              module : \n",
       "                nn.Identity\n",
       "                {\n",
       "                  gradInput : DoubleTensor - empty\n",
       "                  output : DoubleTensor - empty\n",
       "                }\n",
       "              mapindex : \n",
       "                {\n",
       "                  1 : table: 0x41072f50\n",
       "                  table: 0x41072f50 : 1\n",
       "                }\n",
       "              forwardNodeId : 4\n",
       "              annotations : \n",
       "                {\n",
       "                  _debugLabel : [[string \"derp = nn.Identity()()...\"]]:2\n",
       "                }\n",
       "            }\n",
       "          visited : false"
      ]
     },
     "execution_count": 17,
     "metadata": {},
     "output_type": "execute_result"
    },
    {
     "data": {
      "text/plain": [
       "\n",
       "          id : 4\n",
       "          marked : false\n",
       "          children : \n",
       "            {\n",
       "              1 : \n",
       "                nngraph.Node\n",
       "                {\n",
       "                  data : table: 0x41072f50\n",
       "                  visited : false\n",
       "                  id : 6\n",
       "                  marked : false\n",
       "                  children : table: 0x410730f0\n",
       "                }\n",
       "              nngraph.Node : 1\n",
       "            }\n",
       "        }\n",
       "      nngraph.Node : 2\n",
       "      nngraph.Node : 1\n",
       "    }\n",
       "}\n"
      ]
     },
     "execution_count": 17,
     "metadata": {},
     "output_type": "execute_result"
    }
   ],
   "source": [
    "herp"
   ]
  },
  {
   "cell_type": "code",
   "execution_count": 18,
   "metadata": {
    "collapsed": false
   },
   "outputs": [],
   "source": [
    "whamp:forward{torch.range(1, 5), torch.zeros(5, 5, 5)}"
   ]
  },
  {
   "cell_type": "code",
   "execution_count": 19,
   "metadata": {
    "collapsed": false
   },
   "outputs": [],
   "source": [
    "inputs = {nn.Identity()(), nn.Identity()()}\n",
    "embedded = nn.LookupTable(5, 30)(inputs[1])\n",
    "updated_h = WriteSlice({{}, 3, 3})({embedded, inputs[2]})\n",
    "wwww = nn.gModule(inputs, {updated_h})"
   ]
  },
  {
   "cell_type": "code",
   "execution_count": 20,
   "metadata": {
    "collapsed": false
   },
   "outputs": [],
   "source": [
    "a = torch.Tensor(1)\n",
    "a[1] = 3\n",
    "result = wwww:forward({a, torch.zeros(30, 5, 5)})"
   ]
  },
  {
   "cell_type": "code",
   "execution_count": 21,
   "metadata": {
    "collapsed": false
   },
   "outputs": [
    {
     "data": {
      "text/plain": [
       "(1,.,.) = \n",
       "  0.0000  0.0000  0.0000  0.0000  0.0000\n",
       "  0.0000  0.0000  0.0000  0.0000  0.0000\n",
       "  0.0000  0.0000 -0.7675  0.0000  0.0000\n",
       "  0.0000  0.0000  0.0000  0.0000  0.0000\n",
       "  0.0000  0.0000  0.0000  0.0000  0.0000\n",
       "\n",
       "(2,.,.) = \n",
       "  0.0000  0.0000  0.0000  0.0000  0.0000\n",
       "  0.0000  0.0000  0.0000  0.0000  0.0000\n",
       "  0.0000  0.0000 -1.1886  0.0000  0.0000\n",
       "  0.0000  0.0000  0.0000  0.0000  0.0000\n",
       "  0.0000  0.0000  0.0000  0.0000  0.0000\n",
       "\n",
       "(3,.,.) = \n",
       "  0.0000  0.0000  0.0000  0.0000  0.0000\n",
       "  0.0000  0.0000  0.0000  0.0000  0.0000\n",
       "  0.0000  0.0000  0.5631  0.0000  0.0000\n",
       "  0.0000  0.0000  0.0000  0.0000  0.0000\n",
       "  0.0000  0.0000  0.0000  0.0000  0.0000\n",
       "\n",
       "(4,.,.) = \n",
       "  0.0000  0.0000  0.0000  0.0000  0.0000\n",
       "  0.0000  0.0000  0.0000  0.0000  0.0000\n",
       "  0.0000  0.0000 -1.5310  0.0000  0.0000\n",
       "  0.0000  0.0000  0.0000  0.0000  0.0000\n",
       "  0.0000  0.0000  0.0000  0.0000  0.0000\n",
       "\n",
       "(5,.,.) = \n",
       "  0.0000  0.0000  0.0000  0.0000  0.0000\n",
       "  0.0000  0.0000  0.0000  0.0000  0.0000\n",
       "  0.0000  0.0000  1.2593  0.0000  0.0000\n",
       "  0.0000  0.0000  0.0000  0.0000  0.0000\n",
       "  0.0000  0.0000  0.0000  0.0000  0.0000\n",
       "\n",
       "(6,.,.) = \n",
       "  0.0000  0.0000  0.0000  0.0000  0.0000\n",
       "  0.0000  0.0000  0.0000  0.0000  0.0000\n",
       "  0.0000  0.0000  0.0590  0.0000  0.0000\n",
       "  0.0000  0.0000  0.0000  0.0000  0.0000\n",
       "  0.0000  0.0000  0.0000  0.0000  0.0000\n",
       "\n",
       "(7,.,.) = \n",
       "  0.0000  0.0000  0.0000  0.0000  0.0000\n",
       "  0.0000  0.0000  0.0000  0.0000  0.0000\n",
       "  0.0000  0.0000 -0.5391  0.0000  0.0000\n",
       "  0.0000  0.0000  0.0000  0.0000  0.0000\n",
       "  0.0000  0.0000  0.0000  0.0000  0.0000\n",
       "\n",
       "(8,.,.) = \n",
       "  0.0000  0.0000  0.0000  0.0000  0.0000\n",
       "  0.0000  0.0000  0.0000  0.0000  0.0000\n",
       "  0.0000  0.0000  0.2217  0.0000  0.0000\n",
       "  0.0000  0.0000  0.0000  0.0000  0.0000\n",
       "  0.0000  0.0000  0.0000  0.0000  0.0000\n",
       "\n",
       "(9,.,.) = \n",
       "  0.0000  0.0000  0.0000  0.0000  0.0000\n",
       "  0.0000  0.0000  0.0000  0.0000  0.0000\n",
       "  0.0000  0.0000 -0.0628  0.0000  0.0000\n",
       "  0.0000  0.0000  0.0000  0.0000  0.0000\n",
       "  0.0000  0.0000  0.0000  0.0000  0.0000\n",
       "\n",
       "(10,.,.) = \n",
       "  0.0000  0.0000  0.0000  0.0000  0.0000\n",
       "  0.0000  0.0000  0.0000  0.0000  0.0000\n",
       "  0.0000  0.0000 -0.3425  0.0000  0.0000\n",
       "  0.0000  0.0000  0.0000  0.0000  0.0000\n",
       "  0.0000  0.0000  0.0000  0.0000  0.0000\n",
       "\n",
       "(11,.,.) = \n",
       "  0.0000  0.0000  0.0000  0.0000  0.0000\n",
       "  0.0000  0.0000  0.0000  0.0000  0.0000\n",
       "  0.0000  0.0000  0.3718  0.0000  0.0000\n",
       "  0.0000  0.0000  0.0000  0.0000  0.0000\n",
       "  0.0000  0.0000  0.0000  0.0000  0.0000\n",
       "\n",
       "(12,.,.) = \n",
       "  0.0000  0.0000  0.0000  0.0000  0.0000\n",
       "  0.0000  0.0000  0.0000  0.0000  0.0000\n",
       "  0.0000  0.0000  0.6670  0.0000  0.0000\n",
       "  0.0000  0.0000  0.0000  0.0000  0.0000\n",
       "  0.0000  0.0000  0.0000  0.0000  0.0000\n",
       "\n",
       "(13,.,.) = \n",
       "  0.0000  0.0000  0.0000  0.0000  0.0000\n",
       "  0.0000  0.0000  0.0000  0.0000  0.0000\n",
       "  0.0000  0.0000  0.2017  0.0000  0.0000\n",
       "  0.0000  0.0000  0.0000  0.0000  0.0000\n",
       "  0.0000  0.0000  0.0000  0.0000  0.0000\n",
       "\n",
       "(14,.,.) = \n",
       "  0.0000  0.0000  0.0000  0.0000  0.0000\n",
       "  0.0000  0.0000  0.0000  0.0000  0.0000\n",
       "  0.0000  0.0000  1.9560  0.0000  0.0000\n",
       "  0.0000  0.0000  0.0000  0.0000  0.0000\n",
       "  0.0000  0.0000  0.0000  0.0000  0.0000\n",
       "\n",
       "(15,.,.) = \n",
       "  0.0000  0.0000  0.0000  0.0000  0.0000\n",
       "  0.0000  0.0000  0.0000  0.0000  0.0000\n",
       "  0.0000  0.0000  0.2859  0.0000  0.0000\n",
       "  0.0000  0.0000  0.0000  0.0000  0.0000\n",
       "  0.0000  0.0000  0.0000  0.0000  0.0000\n",
       "\n",
       "(16,.,.) = \n",
       "  0.0000  0.0000  0.0000  0.0000  0.0000\n",
       "  0.0000  0.0000  0.0000  0.0000  0.0000\n",
       "  0.0000  0.0000 -0.8829  0.0000  0.0000\n",
       "  0.0000  0.0000  0.0000  0.0000  0.0000\n",
       "  0.0000  0.0000  0.0000  0.0000  0.0000\n",
       "\n",
       "(17,.,.) = \n",
       "  0.0000  0.0000  0.0000  0.0000  0.0000\n",
       "  0.0000  0.0000  0.0000  0.0000  0.0000\n",
       "  0.0000  0.0000 -0.5366  0.0000  0.0000\n",
       "  0.0000  0.0000  0.0000  0.0000  0.0000\n",
       "  0.0000  0.0000  0.0000  0.0000  0.0000\n",
       "\n",
       "(18,.,.) = \n",
       "  0.0000  0.0000  0.0000  0.0000  0.0000\n",
       "  0.0000  0.0000  0.0000  0.0000  0.0000\n",
       "  0.0000  0.0000  1.8434  0.0000  0.0000\n",
       "  0.0000  0.0000  0.0000  0.0000  0.0000\n",
       "  0.0000  0.0000  0.0000  0.0000  0.0000\n",
       "\n",
       "(19,.,.) = \n",
       "  0.0000  0.0000  0.0000  0.0000  0.0000\n",
       "  0.0000  0.0000  0.0000  0.0000  0.0000\n",
       "  0.0000  0.0000  2.4904  0.0000  0.0000\n",
       "  0.0000  0.0000  0.0000  0.0000  0.0000\n",
       "  0.0"
      ]
     },
     "execution_count": 21,
     "metadata": {},
     "output_type": "execute_result"
    }
   ],
   "source": [
    "result"
   ]
  },
  {
   "cell_type": "code",
   "execution_count": null,
   "metadata": {
    "collapsed": true
   },
   "outputs": [],
   "source": []
  },
  {
   "cell_type": "code",
   "execution_count": 22,
   "metadata": {
    "collapsed": false
   },
   "outputs": [],
   "source": [
    "hhhhhh = torch.ones(5, 5, 5) * 10"
   ]
  },
  {
   "cell_type": "code",
   "execution_count": 23,
   "metadata": {
    "collapsed": false
   },
   "outputs": [
    {
     "data": {
      "text/plain": [
       "(1,.,.) = \n",
       "  10  10  10  10  10\n",
       "  10  10  10  10  10\n",
       "  10  10  10  10  10\n",
       "  10  10  10  10  10\n",
       "  10  10  10  10  10\n",
       "\n",
       "(2,.,.) = \n",
       "  10  10  10  10  10\n",
       "  10  10  10  10  10\n",
       "  10  10  10  10  10\n",
       "  10  10  10  10  10\n",
       "  10  10  10  10  10\n",
       "\n",
       "(3,.,.) = \n",
       "  10  10  10  10  10\n",
       "  10  10  10  10  10\n",
       "  10  10  10  10  10\n",
       "  10  10  10  10  10\n",
       "  10  10  10  10  10\n",
       "\n",
       "(4,.,.) = \n",
       "  10  10  10  10  10\n",
       "  10  10  10  10  10\n",
       "  10  10  10  10  10\n",
       "  10  10  10  10  10\n",
       "  10  10  10  10  10\n",
       "\n",
       "(5,.,.) = \n",
       "  10  10  10  10  10\n",
       "  10  10  10  10  10\n",
       "  10  10  10  10  10\n",
       "  10  10  10  10  10\n",
       "  10  10  10  10  10\n",
       "[torch.DoubleTensor of size 5x5x5]\n",
       "\n"
      ]
     },
     "execution_count": 23,
     "metadata": {},
     "output_type": "execute_result"
    }
   ],
   "source": [
    "hhhhhh"
   ]
  },
  {
   "cell_type": "code",
   "execution_count": 24,
   "metadata": {
    "collapsed": false
   },
   "outputs": [
    {
     "data": {
      "text/plain": [
       " 0\n",
       " 0\n",
       " 0\n",
       " 0\n",
       " 0\n",
       "[torch.DoubleTensor of size 5]\n",
       "\n"
      ]
     },
     "execution_count": 24,
     "metadata": {},
     "output_type": "execute_result"
    }
   ],
   "source": [
    "hhhhhh[{{}, 5, 5}]:zero()"
   ]
  },
  {
   "cell_type": "code",
   "execution_count": 25,
   "metadata": {
    "collapsed": false
   },
   "outputs": [
    {
     "data": {
      "text/plain": [
       "(1,.,.) = \n",
       "  10  10  10  10  10\n",
       "  10  10  10  10  10\n",
       "  10  10  10  10  10\n",
       "  10  10  10  10  10\n",
       "  10  10  10  10   0\n",
       "\n",
       "(2,.,.) = \n",
       "  10  10  10  10  10\n",
       "  10  10  10  10  10\n",
       "  10  10  10  10  10\n",
       "  10  10  10  10  10\n",
       "  10  10  10  10   0\n",
       "\n",
       "(3,.,.) = \n",
       "  10  10  10  10  10\n",
       "  10  10  10  10  10\n",
       "  10  10  10  10  10\n",
       "  10  10  10  10  10\n",
       "  10  10  10  10   0\n",
       "\n",
       "(4,.,.) = \n",
       "  10  10  10  10  10\n",
       "  10  10  10  10  10\n",
       "  10  10  10  10  10\n",
       "  10  10  10  10  10\n",
       "  10  10  10  10   0\n",
       "\n",
       "(5,.,.) = \n",
       "  10  10  10  10  10\n",
       "  10  10  10  10  10\n",
       "  10  10  10  10  10\n",
       "  10  10  10  10  10\n",
       "  10  10  10  10   0\n",
       "[torch.DoubleTensor of size 5x5x5]\n",
       "\n"
      ]
     },
     "execution_count": 25,
     "metadata": {},
     "output_type": "execute_result"
    }
   ],
   "source": [
    "hhhhhh"
   ]
  },
  {
   "cell_type": "code",
   "execution_count": 26,
   "metadata": {
    "collapsed": true
   },
   "outputs": [],
   "source": [
    "inp = nn.Identity()()\n",
    "oup = nn.Identity()(inp)"
   ]
  },
  {
   "cell_type": "code",
   "execution_count": 27,
   "metadata": {
    "collapsed": true
   },
   "outputs": [],
   "source": [
    "out = nn.Identity()(inp)"
   ]
  },
  {
   "cell_type": "code",
   "execution_count": 28,
   "metadata": {
    "collapsed": true
   },
   "outputs": [],
   "source": [
    "wahh = nn.gModule({inp}, {oup, out})"
   ]
  },
  {
   "cell_type": "code",
   "execution_count": 29,
   "metadata": {
    "collapsed": true
   },
   "outputs": [],
   "source": [
    "asadf = torch.zeros(20)\n",
    "result = wahh:forward(asadf)"
   ]
  },
  {
   "cell_type": "code",
   "execution_count": 30,
   "metadata": {
    "collapsed": false
   },
   "outputs": [],
   "source": [
    "fives = torch.ones(20) * 5\n",
    "fifties = torch.ones(20) * 50\n",
    "pphhphph = wahh:backward(asadf, {fives, fifties})"
   ]
  },
  {
   "cell_type": "code",
   "execution_count": 31,
   "metadata": {
    "collapsed": false
   },
   "outputs": [],
   "source": [
    "pphhphph"
   ]
  },
  {
   "cell_type": "code",
   "execution_count": 32,
   "metadata": {
    "collapsed": false
   },
   "outputs": [
    {
     "data": {
      "text/plain": [
       " 55\n",
       " 55\n",
       " 55\n",
       " 55\n",
       " 55\n",
       " 55\n",
       " 55\n",
       " 55\n",
       " 55\n",
       " 55\n",
       " 55\n",
       " 55\n",
       " 55\n",
       " 55\n",
       " 55\n",
       " 55\n",
       " 55\n",
       " 55\n",
       " 55\n",
       " 55\n",
       "[torch.DoubleTensor of size 20]\n",
       "\n"
      ]
     },
     "execution_count": 75,
     "metadata": {},
     "output_type": "execute_result"
    }
   ],
   "source": [
    "pphhphph"
   ]
  },
  {
   "cell_type": "code",
   "execution_count": null,
   "metadata": {
    "collapsed": true
   },
   "outputs": [],
   "source": []
  }
 ],
 "metadata": {
  "kernelspec": {
   "display_name": "iTorch",
   "language": "lua",
   "name": "itorch"
  },
  "language_info": {
   "name": "lua",
   "version": "20100"
  }
 },
 "nbformat": 4,
 "nbformat_minor": 0
}
